{
 "cells": [
  {
   "cell_type": "markdown",
   "id": "34a7a2e3",
   "metadata": {
    "papermill": {
     "duration": 0.019525,
     "end_time": "2021-12-27T03:25:47.590288",
     "exception": false,
     "start_time": "2021-12-27T03:25:47.570763",
     "status": "completed"
    },
    "tags": []
   },
   "source": [
    "**This notebook is an exercise in the [Data Visualization](https://www.kaggle.com/learn/data-visualization) course.  You can reference the tutorial at [this link](https://www.kaggle.com/alexisbcook/distributions).**\n",
    "\n",
    "---\n"
   ]
  },
  {
   "cell_type": "markdown",
   "id": "f820c8f3",
   "metadata": {
    "papermill": {
     "duration": 0.020187,
     "end_time": "2021-12-27T03:25:47.632358",
     "exception": false,
     "start_time": "2021-12-27T03:25:47.612171",
     "status": "completed"
    },
    "tags": []
   },
   "source": [
    "In this exercise, you will use your new knowledge to propose a solution to a real-world scenario.  To succeed, you will need to import data into Python, answer questions using the data, and generate **histograms** and **density plots** to understand patterns in the data.\n",
    "\n",
    "## Scenario\n",
    "\n",
    "You'll work with a real-world dataset containing information collected from microscopic images of breast cancer tumors, similar to the image below.\n",
    "\n",
    "![ex4_cancer_image](https://i.imgur.com/qUESsJe.png)\n",
    "\n",
    "Each tumor has been labeled as either [**benign**](https://en.wikipedia.org/wiki/Benign_tumor) (_noncancerous_) or **malignant** (_cancerous_).\n",
    "\n",
    "To learn more about how this kind of data is used to create intelligent algorithms to classify tumors in medical settings, **watch the short video [at this link](https://www.youtube.com/watch?v=9Mz84cwVmS0)**!"
   ]
  },
  {
   "cell_type": "markdown",
   "id": "ca4cccf0",
   "metadata": {
    "papermill": {
     "duration": 0.021285,
     "end_time": "2021-12-27T03:25:47.674306",
     "exception": false,
     "start_time": "2021-12-27T03:25:47.653021",
     "status": "completed"
    },
    "tags": []
   },
   "source": [
    "\n",
    "\n",
    "## Setup\n",
    "\n",
    "Run the next cell to import and configure the Python libraries that you need to complete the exercise."
   ]
  },
  {
   "cell_type": "code",
   "execution_count": 1,
   "id": "42ad6830",
   "metadata": {
    "execution": {
     "iopub.execute_input": "2021-12-27T03:25:47.721280Z",
     "iopub.status.busy": "2021-12-27T03:25:47.720015Z",
     "iopub.status.idle": "2021-12-27T03:25:48.854013Z",
     "shell.execute_reply": "2021-12-27T03:25:48.854551Z",
     "shell.execute_reply.started": "2021-12-27T02:54:37.956091Z"
    },
    "papermill": {
     "duration": 1.158411,
     "end_time": "2021-12-27T03:25:48.854870",
     "exception": false,
     "start_time": "2021-12-27T03:25:47.696459",
     "status": "completed"
    },
    "tags": []
   },
   "outputs": [
    {
     "name": "stdout",
     "output_type": "stream",
     "text": [
      "Setup Complete\n"
     ]
    }
   ],
   "source": [
    "import pandas as pd\n",
    "pd.plotting.register_matplotlib_converters()\n",
    "import matplotlib.pyplot as plt\n",
    "%matplotlib inline\n",
    "import seaborn as sns\n",
    "print(\"Setup Complete\")"
   ]
  },
  {
   "cell_type": "markdown",
   "id": "27a64b1c",
   "metadata": {
    "papermill": {
     "duration": 0.022683,
     "end_time": "2021-12-27T03:25:48.898428",
     "exception": false,
     "start_time": "2021-12-27T03:25:48.875745",
     "status": "completed"
    },
    "tags": []
   },
   "source": [
    "The questions below will give you feedback on your work. Run the following cell to set up our feedback system."
   ]
  },
  {
   "cell_type": "code",
   "execution_count": 2,
   "id": "7118cec5",
   "metadata": {
    "execution": {
     "iopub.execute_input": "2021-12-27T03:25:48.943304Z",
     "iopub.status.busy": "2021-12-27T03:25:48.942564Z",
     "iopub.status.idle": "2021-12-27T03:25:49.042020Z",
     "shell.execute_reply": "2021-12-27T03:25:49.042582Z",
     "shell.execute_reply.started": "2021-12-27T02:54:45.549097Z"
    },
    "papermill": {
     "duration": 0.124004,
     "end_time": "2021-12-27T03:25:49.042814",
     "exception": false,
     "start_time": "2021-12-27T03:25:48.918810",
     "status": "completed"
    },
    "tags": []
   },
   "outputs": [
    {
     "name": "stdout",
     "output_type": "stream",
     "text": [
      "Setup Complete\n"
     ]
    }
   ],
   "source": [
    "# Set up code checking\n",
    "import os\n",
    "if not os.path.exists(\"../input/cancer_b.csv\"):\n",
    "    os.symlink(\"../input/data-for-datavis/cancer_b.csv\", \"../input/cancer_b.csv\")\n",
    "    os.symlink(\"../input/data-for-datavis/cancer_m.csv\", \"../input/cancer_m.csv\")\n",
    "from learntools.core import binder\n",
    "binder.bind(globals())\n",
    "from learntools.data_viz_to_coder.ex5 import *\n",
    "print(\"Setup Complete\")"
   ]
  },
  {
   "cell_type": "markdown",
   "id": "5cd22ae3",
   "metadata": {
    "papermill": {
     "duration": 0.021001,
     "end_time": "2021-12-27T03:25:49.085735",
     "exception": false,
     "start_time": "2021-12-27T03:25:49.064734",
     "status": "completed"
    },
    "tags": []
   },
   "source": [
    "## Step 1: Load the data\n",
    "\n",
    "In this step, you will load two data files.\n",
    "- Load the data file corresponding to **benign** tumors into a DataFrame called `cancer_b_data`.  The corresponding filepath is `cancer_b_filepath`.  Use the `\"Id\"` column to label the rows.\n",
    "- Load the data file corresponding to **malignant** tumors into a DataFrame called `cancer_m_data`.  The corresponding filepath is `cancer_m_filepath`.  Use the `\"Id\"` column to label the rows."
   ]
  },
  {
   "cell_type": "code",
   "execution_count": 3,
   "id": "1dde58da",
   "metadata": {
    "execution": {
     "iopub.execute_input": "2021-12-27T03:25:49.132069Z",
     "iopub.status.busy": "2021-12-27T03:25:49.131250Z",
     "iopub.status.idle": "2021-12-27T03:25:49.151705Z",
     "shell.execute_reply": "2021-12-27T03:25:49.151054Z",
     "shell.execute_reply.started": "2021-12-27T02:56:02.617860Z"
    },
    "papermill": {
     "duration": 0.045544,
     "end_time": "2021-12-27T03:25:49.151880",
     "exception": false,
     "start_time": "2021-12-27T03:25:49.106336",
     "status": "completed"
    },
    "tags": []
   },
   "outputs": [
    {
     "data": {
      "application/javascript": [
       "parent.postMessage({\"jupyterEvent\": \"custom.exercise_interaction\", \"data\": {\"outcomeType\": 1, \"valueTowardsCompletion\": 0.5, \"interactionType\": 1, \"questionType\": 1, \"questionId\": \"1_LoadCancerData\", \"learnToolsVersion\": \"0.3.4\", \"failureMessage\": \"\", \"exceptionClass\": \"\", \"trace\": \"\"}}, \"*\")"
      ],
      "text/plain": [
       "<IPython.core.display.Javascript object>"
      ]
     },
     "metadata": {},
     "output_type": "display_data"
    },
    {
     "data": {
      "text/markdown": [
       "<span style=\"color:#33cc33\">Correct</span>"
      ],
      "text/plain": [
       "Correct"
      ]
     },
     "metadata": {},
     "output_type": "display_data"
    }
   ],
   "source": [
    "# Paths of the files to read\n",
    "cancer_b_filepath = \"../input/cancer_b.csv\"\n",
    "cancer_m_filepath = \"../input/cancer_m.csv\"\n",
    "\n",
    "# Fill in the line below to read the (benign) file into a variable cancer_b_data\n",
    "cancer_b_data = pd.read_csv(cancer_b_filepath,index_col = 'Id')\n",
    "\n",
    "# Fill in the line below to read the (malignant) file into a variable cancer_m_data\n",
    "cancer_m_data = pd.read_csv(cancer_m_filepath,index_col = 'Id')\n",
    "\n",
    "# Run the line below with no changes to check that you've loaded the data correctly\n",
    "step_1.check()"
   ]
  },
  {
   "cell_type": "code",
   "execution_count": 4,
   "id": "6d014a9c",
   "metadata": {
    "execution": {
     "iopub.execute_input": "2021-12-27T03:25:49.202011Z",
     "iopub.status.busy": "2021-12-27T03:25:49.201219Z",
     "iopub.status.idle": "2021-12-27T03:25:49.204286Z",
     "shell.execute_reply": "2021-12-27T03:25:49.204944Z"
    },
    "papermill": {
     "duration": 0.03107,
     "end_time": "2021-12-27T03:25:49.205136",
     "exception": false,
     "start_time": "2021-12-27T03:25:49.174066",
     "status": "completed"
    },
    "tags": []
   },
   "outputs": [],
   "source": [
    "# Lines below will give you a hint or solution code\n",
    "#step_1.hint()\n",
    "#step_1.solution()"
   ]
  },
  {
   "cell_type": "markdown",
   "id": "56caaa09",
   "metadata": {
    "papermill": {
     "duration": 0.023791,
     "end_time": "2021-12-27T03:25:49.253057",
     "exception": false,
     "start_time": "2021-12-27T03:25:49.229266",
     "status": "completed"
    },
    "tags": []
   },
   "source": [
    "## Step 2: Review the data\n",
    "\n",
    "Use a Python command to print the first 5 rows of the data for benign tumors."
   ]
  },
  {
   "cell_type": "code",
   "execution_count": 5,
   "id": "b26313fb",
   "metadata": {
    "execution": {
     "iopub.execute_input": "2021-12-27T03:25:49.304654Z",
     "iopub.status.busy": "2021-12-27T03:25:49.303955Z",
     "iopub.status.idle": "2021-12-27T03:25:49.335848Z",
     "shell.execute_reply": "2021-12-27T03:25:49.335112Z",
     "shell.execute_reply.started": "2021-12-27T02:56:39.427997Z"
    },
    "papermill": {
     "duration": 0.061767,
     "end_time": "2021-12-27T03:25:49.335995",
     "exception": false,
     "start_time": "2021-12-27T03:25:49.274228",
     "status": "completed"
    },
    "tags": []
   },
   "outputs": [
    {
     "data": {
      "text/html": [
       "<div>\n",
       "<style scoped>\n",
       "    .dataframe tbody tr th:only-of-type {\n",
       "        vertical-align: middle;\n",
       "    }\n",
       "\n",
       "    .dataframe tbody tr th {\n",
       "        vertical-align: top;\n",
       "    }\n",
       "\n",
       "    .dataframe thead th {\n",
       "        text-align: right;\n",
       "    }\n",
       "</style>\n",
       "<table border=\"1\" class=\"dataframe\">\n",
       "  <thead>\n",
       "    <tr style=\"text-align: right;\">\n",
       "      <th></th>\n",
       "      <th>Diagnosis</th>\n",
       "      <th>Radius (mean)</th>\n",
       "      <th>Texture (mean)</th>\n",
       "      <th>Perimeter (mean)</th>\n",
       "      <th>Area (mean)</th>\n",
       "      <th>Smoothness (mean)</th>\n",
       "      <th>Compactness (mean)</th>\n",
       "      <th>Concavity (mean)</th>\n",
       "      <th>Concave points (mean)</th>\n",
       "      <th>Symmetry (mean)</th>\n",
       "      <th>...</th>\n",
       "      <th>Radius (worst)</th>\n",
       "      <th>Texture (worst)</th>\n",
       "      <th>Perimeter (worst)</th>\n",
       "      <th>Area (worst)</th>\n",
       "      <th>Smoothness (worst)</th>\n",
       "      <th>Compactness (worst)</th>\n",
       "      <th>Concavity (worst)</th>\n",
       "      <th>Concave points (worst)</th>\n",
       "      <th>Symmetry (worst)</th>\n",
       "      <th>Fractal dimension (worst)</th>\n",
       "    </tr>\n",
       "    <tr>\n",
       "      <th>Id</th>\n",
       "      <th></th>\n",
       "      <th></th>\n",
       "      <th></th>\n",
       "      <th></th>\n",
       "      <th></th>\n",
       "      <th></th>\n",
       "      <th></th>\n",
       "      <th></th>\n",
       "      <th></th>\n",
       "      <th></th>\n",
       "      <th></th>\n",
       "      <th></th>\n",
       "      <th></th>\n",
       "      <th></th>\n",
       "      <th></th>\n",
       "      <th></th>\n",
       "      <th></th>\n",
       "      <th></th>\n",
       "      <th></th>\n",
       "      <th></th>\n",
       "      <th></th>\n",
       "    </tr>\n",
       "  </thead>\n",
       "  <tbody>\n",
       "    <tr>\n",
       "      <th>8510426</th>\n",
       "      <td>B</td>\n",
       "      <td>13.540</td>\n",
       "      <td>14.36</td>\n",
       "      <td>87.46</td>\n",
       "      <td>566.3</td>\n",
       "      <td>0.09779</td>\n",
       "      <td>0.08129</td>\n",
       "      <td>0.06664</td>\n",
       "      <td>0.047810</td>\n",
       "      <td>0.1885</td>\n",
       "      <td>...</td>\n",
       "      <td>15.110</td>\n",
       "      <td>19.26</td>\n",
       "      <td>99.70</td>\n",
       "      <td>711.2</td>\n",
       "      <td>0.14400</td>\n",
       "      <td>0.17730</td>\n",
       "      <td>0.23900</td>\n",
       "      <td>0.12880</td>\n",
       "      <td>0.2977</td>\n",
       "      <td>0.07259</td>\n",
       "    </tr>\n",
       "    <tr>\n",
       "      <th>8510653</th>\n",
       "      <td>B</td>\n",
       "      <td>13.080</td>\n",
       "      <td>15.71</td>\n",
       "      <td>85.63</td>\n",
       "      <td>520.0</td>\n",
       "      <td>0.10750</td>\n",
       "      <td>0.12700</td>\n",
       "      <td>0.04568</td>\n",
       "      <td>0.031100</td>\n",
       "      <td>0.1967</td>\n",
       "      <td>...</td>\n",
       "      <td>14.500</td>\n",
       "      <td>20.49</td>\n",
       "      <td>96.09</td>\n",
       "      <td>630.5</td>\n",
       "      <td>0.13120</td>\n",
       "      <td>0.27760</td>\n",
       "      <td>0.18900</td>\n",
       "      <td>0.07283</td>\n",
       "      <td>0.3184</td>\n",
       "      <td>0.08183</td>\n",
       "    </tr>\n",
       "    <tr>\n",
       "      <th>8510824</th>\n",
       "      <td>B</td>\n",
       "      <td>9.504</td>\n",
       "      <td>12.44</td>\n",
       "      <td>60.34</td>\n",
       "      <td>273.9</td>\n",
       "      <td>0.10240</td>\n",
       "      <td>0.06492</td>\n",
       "      <td>0.02956</td>\n",
       "      <td>0.020760</td>\n",
       "      <td>0.1815</td>\n",
       "      <td>...</td>\n",
       "      <td>10.230</td>\n",
       "      <td>15.66</td>\n",
       "      <td>65.13</td>\n",
       "      <td>314.9</td>\n",
       "      <td>0.13240</td>\n",
       "      <td>0.11480</td>\n",
       "      <td>0.08867</td>\n",
       "      <td>0.06227</td>\n",
       "      <td>0.2450</td>\n",
       "      <td>0.07773</td>\n",
       "    </tr>\n",
       "    <tr>\n",
       "      <th>854941</th>\n",
       "      <td>B</td>\n",
       "      <td>13.030</td>\n",
       "      <td>18.42</td>\n",
       "      <td>82.61</td>\n",
       "      <td>523.8</td>\n",
       "      <td>0.08983</td>\n",
       "      <td>0.03766</td>\n",
       "      <td>0.02562</td>\n",
       "      <td>0.029230</td>\n",
       "      <td>0.1467</td>\n",
       "      <td>...</td>\n",
       "      <td>13.300</td>\n",
       "      <td>22.81</td>\n",
       "      <td>84.46</td>\n",
       "      <td>545.9</td>\n",
       "      <td>0.09701</td>\n",
       "      <td>0.04619</td>\n",
       "      <td>0.04833</td>\n",
       "      <td>0.05013</td>\n",
       "      <td>0.1987</td>\n",
       "      <td>0.06169</td>\n",
       "    </tr>\n",
       "    <tr>\n",
       "      <th>85713702</th>\n",
       "      <td>B</td>\n",
       "      <td>8.196</td>\n",
       "      <td>16.84</td>\n",
       "      <td>51.71</td>\n",
       "      <td>201.9</td>\n",
       "      <td>0.08600</td>\n",
       "      <td>0.05943</td>\n",
       "      <td>0.01588</td>\n",
       "      <td>0.005917</td>\n",
       "      <td>0.1769</td>\n",
       "      <td>...</td>\n",
       "      <td>8.964</td>\n",
       "      <td>21.96</td>\n",
       "      <td>57.26</td>\n",
       "      <td>242.2</td>\n",
       "      <td>0.12970</td>\n",
       "      <td>0.13570</td>\n",
       "      <td>0.06880</td>\n",
       "      <td>0.02564</td>\n",
       "      <td>0.3105</td>\n",
       "      <td>0.07409</td>\n",
       "    </tr>\n",
       "  </tbody>\n",
       "</table>\n",
       "<p>5 rows × 31 columns</p>\n",
       "</div>"
      ],
      "text/plain": [
       "         Diagnosis  Radius (mean)  Texture (mean)  Perimeter (mean)  \\\n",
       "Id                                                                    \n",
       "8510426          B         13.540           14.36             87.46   \n",
       "8510653          B         13.080           15.71             85.63   \n",
       "8510824          B          9.504           12.44             60.34   \n",
       "854941           B         13.030           18.42             82.61   \n",
       "85713702         B          8.196           16.84             51.71   \n",
       "\n",
       "          Area (mean)  Smoothness (mean)  Compactness (mean)  \\\n",
       "Id                                                             \n",
       "8510426         566.3            0.09779             0.08129   \n",
       "8510653         520.0            0.10750             0.12700   \n",
       "8510824         273.9            0.10240             0.06492   \n",
       "854941          523.8            0.08983             0.03766   \n",
       "85713702        201.9            0.08600             0.05943   \n",
       "\n",
       "          Concavity (mean)  Concave points (mean)  Symmetry (mean)  ...  \\\n",
       "Id                                                                  ...   \n",
       "8510426            0.06664               0.047810           0.1885  ...   \n",
       "8510653            0.04568               0.031100           0.1967  ...   \n",
       "8510824            0.02956               0.020760           0.1815  ...   \n",
       "854941             0.02562               0.029230           0.1467  ...   \n",
       "85713702           0.01588               0.005917           0.1769  ...   \n",
       "\n",
       "          Radius (worst)  Texture (worst)  Perimeter (worst)  Area (worst)  \\\n",
       "Id                                                                           \n",
       "8510426           15.110            19.26              99.70         711.2   \n",
       "8510653           14.500            20.49              96.09         630.5   \n",
       "8510824           10.230            15.66              65.13         314.9   \n",
       "854941            13.300            22.81              84.46         545.9   \n",
       "85713702           8.964            21.96              57.26         242.2   \n",
       "\n",
       "          Smoothness (worst)  Compactness (worst)  Concavity (worst)  \\\n",
       "Id                                                                     \n",
       "8510426              0.14400              0.17730            0.23900   \n",
       "8510653              0.13120              0.27760            0.18900   \n",
       "8510824              0.13240              0.11480            0.08867   \n",
       "854941               0.09701              0.04619            0.04833   \n",
       "85713702             0.12970              0.13570            0.06880   \n",
       "\n",
       "          Concave points (worst)  Symmetry (worst)  Fractal dimension (worst)  \n",
       "Id                                                                             \n",
       "8510426                  0.12880            0.2977                    0.07259  \n",
       "8510653                  0.07283            0.3184                    0.08183  \n",
       "8510824                  0.06227            0.2450                    0.07773  \n",
       "854941                   0.05013            0.1987                    0.06169  \n",
       "85713702                 0.02564            0.3105                    0.07409  \n",
       "\n",
       "[5 rows x 31 columns]"
      ]
     },
     "execution_count": 5,
     "metadata": {},
     "output_type": "execute_result"
    }
   ],
   "source": [
    "# Printing the first five rows of the (benign) data\n",
    "\n",
    "cancer_b_data.head()"
   ]
  },
  {
   "cell_type": "code",
   "execution_count": 6,
   "id": "d247ef9a",
   "metadata": {
    "execution": {
     "iopub.execute_input": "2021-12-27T03:25:49.393241Z",
     "iopub.status.busy": "2021-12-27T03:25:49.392162Z",
     "iopub.status.idle": "2021-12-27T03:25:49.395767Z",
     "shell.execute_reply": "2021-12-27T03:25:49.396407Z",
     "shell.execute_reply.started": "2021-12-27T02:56:58.610298Z"
    },
    "papermill": {
     "duration": 0.036658,
     "end_time": "2021-12-27T03:25:49.396657",
     "exception": false,
     "start_time": "2021-12-27T03:25:49.359999",
     "status": "completed"
    },
    "tags": []
   },
   "outputs": [
    {
     "data": {
      "text/plain": [
       "(357, 31)"
      ]
     },
     "execution_count": 6,
     "metadata": {},
     "output_type": "execute_result"
    }
   ],
   "source": [
    "cancer_b_data.shape"
   ]
  },
  {
   "cell_type": "markdown",
   "id": "5b2f531f",
   "metadata": {
    "papermill": {
     "duration": 0.021745,
     "end_time": "2021-12-27T03:25:49.441008",
     "exception": false,
     "start_time": "2021-12-27T03:25:49.419263",
     "status": "completed"
    },
    "tags": []
   },
   "source": [
    "So, this data set has 357 rows and 31 columns."
   ]
  },
  {
   "cell_type": "markdown",
   "id": "389b24ed",
   "metadata": {
    "papermill": {
     "duration": 0.02339,
     "end_time": "2021-12-27T03:25:49.485974",
     "exception": false,
     "start_time": "2021-12-27T03:25:49.462584",
     "status": "completed"
    },
    "tags": []
   },
   "source": [
    "Use a Python command to print the first 5 rows of the data for malignant tumors."
   ]
  },
  {
   "cell_type": "code",
   "execution_count": 7,
   "id": "e746ac2f",
   "metadata": {
    "execution": {
     "iopub.execute_input": "2021-12-27T03:25:49.537362Z",
     "iopub.status.busy": "2021-12-27T03:25:49.536351Z",
     "iopub.status.idle": "2021-12-27T03:25:49.566456Z",
     "shell.execute_reply": "2021-12-27T03:25:49.566936Z",
     "shell.execute_reply.started": "2021-12-27T02:57:46.877044Z"
    },
    "papermill": {
     "duration": 0.057843,
     "end_time": "2021-12-27T03:25:49.567113",
     "exception": false,
     "start_time": "2021-12-27T03:25:49.509270",
     "status": "completed"
    },
    "tags": []
   },
   "outputs": [
    {
     "data": {
      "text/html": [
       "<div>\n",
       "<style scoped>\n",
       "    .dataframe tbody tr th:only-of-type {\n",
       "        vertical-align: middle;\n",
       "    }\n",
       "\n",
       "    .dataframe tbody tr th {\n",
       "        vertical-align: top;\n",
       "    }\n",
       "\n",
       "    .dataframe thead th {\n",
       "        text-align: right;\n",
       "    }\n",
       "</style>\n",
       "<table border=\"1\" class=\"dataframe\">\n",
       "  <thead>\n",
       "    <tr style=\"text-align: right;\">\n",
       "      <th></th>\n",
       "      <th>Diagnosis</th>\n",
       "      <th>Radius (mean)</th>\n",
       "      <th>Texture (mean)</th>\n",
       "      <th>Perimeter (mean)</th>\n",
       "      <th>Area (mean)</th>\n",
       "      <th>Smoothness (mean)</th>\n",
       "      <th>Compactness (mean)</th>\n",
       "      <th>Concavity (mean)</th>\n",
       "      <th>Concave points (mean)</th>\n",
       "      <th>Symmetry (mean)</th>\n",
       "      <th>...</th>\n",
       "      <th>Radius (worst)</th>\n",
       "      <th>Texture (worst)</th>\n",
       "      <th>Perimeter (worst)</th>\n",
       "      <th>Area (worst)</th>\n",
       "      <th>Smoothness (worst)</th>\n",
       "      <th>Compactness (worst)</th>\n",
       "      <th>Concavity (worst)</th>\n",
       "      <th>Concave points (worst)</th>\n",
       "      <th>Symmetry (worst)</th>\n",
       "      <th>Fractal dimension (worst)</th>\n",
       "    </tr>\n",
       "    <tr>\n",
       "      <th>Id</th>\n",
       "      <th></th>\n",
       "      <th></th>\n",
       "      <th></th>\n",
       "      <th></th>\n",
       "      <th></th>\n",
       "      <th></th>\n",
       "      <th></th>\n",
       "      <th></th>\n",
       "      <th></th>\n",
       "      <th></th>\n",
       "      <th></th>\n",
       "      <th></th>\n",
       "      <th></th>\n",
       "      <th></th>\n",
       "      <th></th>\n",
       "      <th></th>\n",
       "      <th></th>\n",
       "      <th></th>\n",
       "      <th></th>\n",
       "      <th></th>\n",
       "      <th></th>\n",
       "    </tr>\n",
       "  </thead>\n",
       "  <tbody>\n",
       "    <tr>\n",
       "      <th>842302</th>\n",
       "      <td>M</td>\n",
       "      <td>17.99</td>\n",
       "      <td>10.38</td>\n",
       "      <td>122.80</td>\n",
       "      <td>1001.0</td>\n",
       "      <td>0.11840</td>\n",
       "      <td>0.27760</td>\n",
       "      <td>0.3001</td>\n",
       "      <td>0.14710</td>\n",
       "      <td>0.2419</td>\n",
       "      <td>...</td>\n",
       "      <td>25.38</td>\n",
       "      <td>17.33</td>\n",
       "      <td>184.60</td>\n",
       "      <td>2019.0</td>\n",
       "      <td>0.1622</td>\n",
       "      <td>0.6656</td>\n",
       "      <td>0.7119</td>\n",
       "      <td>0.2654</td>\n",
       "      <td>0.4601</td>\n",
       "      <td>0.11890</td>\n",
       "    </tr>\n",
       "    <tr>\n",
       "      <th>842517</th>\n",
       "      <td>M</td>\n",
       "      <td>20.57</td>\n",
       "      <td>17.77</td>\n",
       "      <td>132.90</td>\n",
       "      <td>1326.0</td>\n",
       "      <td>0.08474</td>\n",
       "      <td>0.07864</td>\n",
       "      <td>0.0869</td>\n",
       "      <td>0.07017</td>\n",
       "      <td>0.1812</td>\n",
       "      <td>...</td>\n",
       "      <td>24.99</td>\n",
       "      <td>23.41</td>\n",
       "      <td>158.80</td>\n",
       "      <td>1956.0</td>\n",
       "      <td>0.1238</td>\n",
       "      <td>0.1866</td>\n",
       "      <td>0.2416</td>\n",
       "      <td>0.1860</td>\n",
       "      <td>0.2750</td>\n",
       "      <td>0.08902</td>\n",
       "    </tr>\n",
       "    <tr>\n",
       "      <th>84300903</th>\n",
       "      <td>M</td>\n",
       "      <td>19.69</td>\n",
       "      <td>21.25</td>\n",
       "      <td>130.00</td>\n",
       "      <td>1203.0</td>\n",
       "      <td>0.10960</td>\n",
       "      <td>0.15990</td>\n",
       "      <td>0.1974</td>\n",
       "      <td>0.12790</td>\n",
       "      <td>0.2069</td>\n",
       "      <td>...</td>\n",
       "      <td>23.57</td>\n",
       "      <td>25.53</td>\n",
       "      <td>152.50</td>\n",
       "      <td>1709.0</td>\n",
       "      <td>0.1444</td>\n",
       "      <td>0.4245</td>\n",
       "      <td>0.4504</td>\n",
       "      <td>0.2430</td>\n",
       "      <td>0.3613</td>\n",
       "      <td>0.08758</td>\n",
       "    </tr>\n",
       "    <tr>\n",
       "      <th>84348301</th>\n",
       "      <td>M</td>\n",
       "      <td>11.42</td>\n",
       "      <td>20.38</td>\n",
       "      <td>77.58</td>\n",
       "      <td>386.1</td>\n",
       "      <td>0.14250</td>\n",
       "      <td>0.28390</td>\n",
       "      <td>0.2414</td>\n",
       "      <td>0.10520</td>\n",
       "      <td>0.2597</td>\n",
       "      <td>...</td>\n",
       "      <td>14.91</td>\n",
       "      <td>26.50</td>\n",
       "      <td>98.87</td>\n",
       "      <td>567.7</td>\n",
       "      <td>0.2098</td>\n",
       "      <td>0.8663</td>\n",
       "      <td>0.6869</td>\n",
       "      <td>0.2575</td>\n",
       "      <td>0.6638</td>\n",
       "      <td>0.17300</td>\n",
       "    </tr>\n",
       "    <tr>\n",
       "      <th>84358402</th>\n",
       "      <td>M</td>\n",
       "      <td>20.29</td>\n",
       "      <td>14.34</td>\n",
       "      <td>135.10</td>\n",
       "      <td>1297.0</td>\n",
       "      <td>0.10030</td>\n",
       "      <td>0.13280</td>\n",
       "      <td>0.1980</td>\n",
       "      <td>0.10430</td>\n",
       "      <td>0.1809</td>\n",
       "      <td>...</td>\n",
       "      <td>22.54</td>\n",
       "      <td>16.67</td>\n",
       "      <td>152.20</td>\n",
       "      <td>1575.0</td>\n",
       "      <td>0.1374</td>\n",
       "      <td>0.2050</td>\n",
       "      <td>0.4000</td>\n",
       "      <td>0.1625</td>\n",
       "      <td>0.2364</td>\n",
       "      <td>0.07678</td>\n",
       "    </tr>\n",
       "  </tbody>\n",
       "</table>\n",
       "<p>5 rows × 31 columns</p>\n",
       "</div>"
      ],
      "text/plain": [
       "         Diagnosis  Radius (mean)  Texture (mean)  Perimeter (mean)  \\\n",
       "Id                                                                    \n",
       "842302           M          17.99           10.38            122.80   \n",
       "842517           M          20.57           17.77            132.90   \n",
       "84300903         M          19.69           21.25            130.00   \n",
       "84348301         M          11.42           20.38             77.58   \n",
       "84358402         M          20.29           14.34            135.10   \n",
       "\n",
       "          Area (mean)  Smoothness (mean)  Compactness (mean)  \\\n",
       "Id                                                             \n",
       "842302         1001.0            0.11840             0.27760   \n",
       "842517         1326.0            0.08474             0.07864   \n",
       "84300903       1203.0            0.10960             0.15990   \n",
       "84348301        386.1            0.14250             0.28390   \n",
       "84358402       1297.0            0.10030             0.13280   \n",
       "\n",
       "          Concavity (mean)  Concave points (mean)  Symmetry (mean)  ...  \\\n",
       "Id                                                                  ...   \n",
       "842302              0.3001                0.14710           0.2419  ...   \n",
       "842517              0.0869                0.07017           0.1812  ...   \n",
       "84300903            0.1974                0.12790           0.2069  ...   \n",
       "84348301            0.2414                0.10520           0.2597  ...   \n",
       "84358402            0.1980                0.10430           0.1809  ...   \n",
       "\n",
       "          Radius (worst)  Texture (worst)  Perimeter (worst)  Area (worst)  \\\n",
       "Id                                                                           \n",
       "842302             25.38            17.33             184.60        2019.0   \n",
       "842517             24.99            23.41             158.80        1956.0   \n",
       "84300903           23.57            25.53             152.50        1709.0   \n",
       "84348301           14.91            26.50              98.87         567.7   \n",
       "84358402           22.54            16.67             152.20        1575.0   \n",
       "\n",
       "          Smoothness (worst)  Compactness (worst)  Concavity (worst)  \\\n",
       "Id                                                                     \n",
       "842302                0.1622               0.6656             0.7119   \n",
       "842517                0.1238               0.1866             0.2416   \n",
       "84300903              0.1444               0.4245             0.4504   \n",
       "84348301              0.2098               0.8663             0.6869   \n",
       "84358402              0.1374               0.2050             0.4000   \n",
       "\n",
       "          Concave points (worst)  Symmetry (worst)  Fractal dimension (worst)  \n",
       "Id                                                                             \n",
       "842302                    0.2654            0.4601                    0.11890  \n",
       "842517                    0.1860            0.2750                    0.08902  \n",
       "84300903                  0.2430            0.3613                    0.08758  \n",
       "84348301                  0.2575            0.6638                    0.17300  \n",
       "84358402                  0.1625            0.2364                    0.07678  \n",
       "\n",
       "[5 rows x 31 columns]"
      ]
     },
     "execution_count": 7,
     "metadata": {},
     "output_type": "execute_result"
    }
   ],
   "source": [
    "# Printing the first five rows of the (malignant) data\n",
    "\n",
    "cancer_m_data.head()"
   ]
  },
  {
   "cell_type": "code",
   "execution_count": 8,
   "id": "6de8807f",
   "metadata": {
    "execution": {
     "iopub.execute_input": "2021-12-27T03:25:49.624347Z",
     "iopub.status.busy": "2021-12-27T03:25:49.623681Z",
     "iopub.status.idle": "2021-12-27T03:25:49.627858Z",
     "shell.execute_reply": "2021-12-27T03:25:49.628432Z",
     "shell.execute_reply.started": "2021-12-27T02:58:04.616753Z"
    },
    "papermill": {
     "duration": 0.036273,
     "end_time": "2021-12-27T03:25:49.628751",
     "exception": false,
     "start_time": "2021-12-27T03:25:49.592478",
     "status": "completed"
    },
    "tags": []
   },
   "outputs": [
    {
     "data": {
      "text/plain": [
       "(212, 31)"
      ]
     },
     "execution_count": 8,
     "metadata": {},
     "output_type": "execute_result"
    }
   ],
   "source": [
    "cancer_m_data.shape"
   ]
  },
  {
   "cell_type": "markdown",
   "id": "ebd8103a",
   "metadata": {
    "papermill": {
     "duration": 0.025079,
     "end_time": "2021-12-27T03:25:49.679931",
     "exception": false,
     "start_time": "2021-12-27T03:25:49.654852",
     "status": "completed"
    },
    "tags": []
   },
   "source": [
    "In this malignant dataset we have comparatively less data than in bengin dataset."
   ]
  },
  {
   "cell_type": "markdown",
   "id": "f46c62bf",
   "metadata": {
    "papermill": {
     "duration": 0.024709,
     "end_time": "2021-12-27T03:25:49.729881",
     "exception": false,
     "start_time": "2021-12-27T03:25:49.705172",
     "status": "completed"
    },
    "tags": []
   },
   "source": [
    "In the datasets, each row corresponds to a different image.  Each dataset has 31 different columns, corresponding to:\n",
    "- 1 column (`'Diagnosis'`) that classifies tumors as either benign (which appears in the dataset as **`B`**) or malignant (__`M`__), and\n",
    "- 30 columns containing different measurements collected from the images.\n",
    "\n",
    "Use the first 5 rows of the data (for benign and malignant tumors) to answer the questions below."
   ]
  },
  {
   "cell_type": "code",
   "execution_count": 9,
   "id": "232fb8e6",
   "metadata": {
    "execution": {
     "iopub.execute_input": "2021-12-27T03:25:49.782310Z",
     "iopub.status.busy": "2021-12-27T03:25:49.780142Z",
     "iopub.status.idle": "2021-12-27T03:25:49.789540Z",
     "shell.execute_reply": "2021-12-27T03:25:49.790074Z",
     "shell.execute_reply.started": "2021-12-27T03:04:19.338021Z"
    },
    "papermill": {
     "duration": 0.036849,
     "end_time": "2021-12-27T03:25:49.790258",
     "exception": false,
     "start_time": "2021-12-27T03:25:49.753409",
     "status": "completed"
    },
    "tags": []
   },
   "outputs": [
    {
     "data": {
      "application/javascript": [
       "parent.postMessage({\"jupyterEvent\": \"custom.exercise_interaction\", \"data\": {\"outcomeType\": 1, \"valueTowardsCompletion\": 0.5, \"interactionType\": 1, \"questionType\": 1, \"questionId\": \"2_ReviewData\", \"learnToolsVersion\": \"0.3.4\", \"failureMessage\": \"\", \"exceptionClass\": \"\", \"trace\": \"\"}}, \"*\")"
      ],
      "text/plain": [
       "<IPython.core.display.Javascript object>"
      ]
     },
     "metadata": {},
     "output_type": "display_data"
    },
    {
     "data": {
      "text/markdown": [
       "<span style=\"color:#33cc33\">Correct</span>"
      ],
      "text/plain": [
       "Correct"
      ]
     },
     "metadata": {},
     "output_type": "display_data"
    }
   ],
   "source": [
    "# Fill in the line below: In the first five rows of the data for benign tumors, what is the\n",
    "# largest value for 'Perimeter (mean)'?\n",
    "max_perim = 87.46\n",
    "\n",
    "# Fill in the line below: What is the value for 'Radius (mean)' for the tumor with Id 842517?\n",
    "mean_radius = 20.57\n",
    "\n",
    "# Check your answers\n",
    "step_2.check()"
   ]
  },
  {
   "cell_type": "code",
   "execution_count": 10,
   "id": "516944f4",
   "metadata": {
    "execution": {
     "iopub.execute_input": "2021-12-27T03:25:49.842110Z",
     "iopub.status.busy": "2021-12-27T03:25:49.841332Z",
     "iopub.status.idle": "2021-12-27T03:25:49.844268Z",
     "shell.execute_reply": "2021-12-27T03:25:49.844837Z",
     "shell.execute_reply.started": "2021-12-27T03:04:02.713357Z"
    },
    "papermill": {
     "duration": 0.030737,
     "end_time": "2021-12-27T03:25:49.845016",
     "exception": false,
     "start_time": "2021-12-27T03:25:49.814279",
     "status": "completed"
    },
    "tags": []
   },
   "outputs": [],
   "source": [
    "# Lines below will give you a hint or solution code\n",
    "#step_2.hint()\n",
    "#step_2.solution()"
   ]
  },
  {
   "cell_type": "markdown",
   "id": "5c1d8ebf",
   "metadata": {
    "papermill": {
     "duration": 0.026181,
     "end_time": "2021-12-27T03:25:49.896191",
     "exception": false,
     "start_time": "2021-12-27T03:25:49.870010",
     "status": "completed"
    },
    "tags": []
   },
   "source": [
    "## Step 3: Investigating differences"
   ]
  },
  {
   "cell_type": "markdown",
   "id": "75df0c10",
   "metadata": {
    "papermill": {
     "duration": 0.024828,
     "end_time": "2021-12-27T03:25:49.944962",
     "exception": false,
     "start_time": "2021-12-27T03:25:49.920134",
     "status": "completed"
    },
    "tags": []
   },
   "source": [
    "#### Part A\n",
    "\n",
    "Use the code cell below to create two histograms that show the distribution in values for `'Area (mean)'` for both benign and malignant tumors.  (_To permit easy comparison, create a single figure containing both histograms in the code cell below._)"
   ]
  },
  {
   "cell_type": "code",
   "execution_count": 11,
   "id": "3b57d5a4",
   "metadata": {
    "execution": {
     "iopub.execute_input": "2021-12-27T03:25:49.996701Z",
     "iopub.status.busy": "2021-12-27T03:25:49.995979Z",
     "iopub.status.idle": "2021-12-27T03:25:50.289361Z",
     "shell.execute_reply": "2021-12-27T03:25:50.288807Z",
     "shell.execute_reply.started": "2021-12-27T03:11:41.659171Z"
    },
    "papermill": {
     "duration": 0.320206,
     "end_time": "2021-12-27T03:25:50.289536",
     "exception": false,
     "start_time": "2021-12-27T03:25:49.969330",
     "status": "completed"
    },
    "tags": []
   },
   "outputs": [
    {
     "data": {
      "application/javascript": [
       "parent.postMessage({\"jupyterEvent\": \"custom.exercise_interaction\", \"data\": {\"outcomeType\": 1, \"valueTowardsCompletion\": 0.5, \"interactionType\": 1, \"questionType\": 2, \"questionId\": \"3.1_PlotHist\", \"learnToolsVersion\": \"0.3.4\", \"failureMessage\": \"\", \"exceptionClass\": \"\", \"trace\": \"\"}}, \"*\")"
      ],
      "text/plain": [
       "<IPython.core.display.Javascript object>"
      ]
     },
     "metadata": {},
     "output_type": "display_data"
    },
    {
     "data": {
      "text/markdown": [
       "<span style=\"color:#33cc33\">Correct</span>"
      ],
      "text/plain": [
       "Correct"
      ]
     },
     "metadata": {},
     "output_type": "display_data"
    },
    {
     "data": {
      "image/png": "[encoded data removed]",
      "text/plain": [
       "<Figure size 432x288 with 1 Axes>"
      ]
     },
     "metadata": {
      "needs_background": "light"
     },
     "output_type": "display_data"
    }
   ],
   "source": [
    "# Histograms for benign and maligant tumors\n",
    "# For benign\n",
    "sns.distplot(a = cancer_b_data['Area (mean)'],label = \"cancer_b_data Area\",kde = False)\n",
    "\n",
    "# For malignant\n",
    "sns.distplot(a = cancer_m_data['Area (mean)'],label = \"cancer_m_data Area\",kde = False)\n",
    "\n",
    "# Check your answer\n",
    "step_3.a.check()"
   ]
  },
  {
   "cell_type": "code",
   "execution_count": 12,
   "id": "57a8bef8",
   "metadata": {
    "execution": {
     "iopub.execute_input": "2021-12-27T03:25:50.343275Z",
     "iopub.status.busy": "2021-12-27T03:25:50.342542Z",
     "iopub.status.idle": "2021-12-27T03:25:50.346522Z",
     "shell.execute_reply": "2021-12-27T03:25:50.347030Z"
    },
    "papermill": {
     "duration": 0.032502,
     "end_time": "2021-12-27T03:25:50.347214",
     "exception": false,
     "start_time": "2021-12-27T03:25:50.314712",
     "status": "completed"
    },
    "tags": []
   },
   "outputs": [],
   "source": [
    "# Lines below will give you a hint or solution code\n",
    "#step_3.a.hint()\n",
    "#step_3.a.solution_plot()"
   ]
  },
  {
   "cell_type": "markdown",
   "id": "be15c795",
   "metadata": {
    "papermill": {
     "duration": 0.02496,
     "end_time": "2021-12-27T03:25:50.400238",
     "exception": false,
     "start_time": "2021-12-27T03:25:50.375278",
     "status": "completed"
    },
    "tags": []
   },
   "source": [
    "#### Part B\n",
    "\n",
    "A researcher approaches you for help with identifying how the `'Area (mean)'` column can be used to understand the difference between benign and malignant tumors.  Based on the histograms above, \n",
    "- Do malignant tumors have higher or lower values for `'Area (mean)'` (relative to benign tumors), on average?\n",
    "- Which tumor type seems to have a larger range of potential values?"
   ]
  },
  {
   "cell_type": "markdown",
   "id": "dd498d92",
   "metadata": {
    "papermill": {
     "duration": 0.023087,
     "end_time": "2021-12-27T03:25:50.446980",
     "exception": false,
     "start_time": "2021-12-27T03:25:50.423893",
     "status": "completed"
    },
    "tags": []
   },
   "source": [
    "<b> Answer :</b>\n",
    "\n",
    "1. From the plot above it can be said that malignant tumour has relatively higher 'Area (mean)' compare to the bengin tumors.\n",
    "\n",
    "2. From the above plot we can say that the malignant tumors has large range of potential values that goes form 500-2500 whereas the bengin tumors has value ranging for 200 -1000."
   ]
  },
  {
   "cell_type": "code",
   "execution_count": 13,
   "id": "09065f5f",
   "metadata": {
    "execution": {
     "iopub.execute_input": "2021-12-27T03:25:50.498696Z",
     "iopub.status.busy": "2021-12-27T03:25:50.498053Z",
     "iopub.status.idle": "2021-12-27T03:25:50.502319Z",
     "shell.execute_reply": "2021-12-27T03:25:50.501857Z"
    },
    "papermill": {
     "duration": 0.032204,
     "end_time": "2021-12-27T03:25:50.502457",
     "exception": false,
     "start_time": "2021-12-27T03:25:50.470253",
     "status": "completed"
    },
    "tags": []
   },
   "outputs": [],
   "source": [
    "#step_3.b.hint()"
   ]
  },
  {
   "cell_type": "code",
   "execution_count": 14,
   "id": "e7a57753",
   "metadata": {
    "execution": {
     "iopub.execute_input": "2021-12-27T03:25:50.554407Z",
     "iopub.status.busy": "2021-12-27T03:25:50.553731Z",
     "iopub.status.idle": "2021-12-27T03:25:50.559066Z",
     "shell.execute_reply": "2021-12-27T03:25:50.559567Z",
     "shell.execute_reply.started": "2021-12-27T03:19:30.238873Z"
    },
    "papermill": {
     "duration": 0.033241,
     "end_time": "2021-12-27T03:25:50.559772",
     "exception": false,
     "start_time": "2021-12-27T03:25:50.526531",
     "status": "completed"
    },
    "tags": []
   },
   "outputs": [
    {
     "data": {
      "application/javascript": [
       "parent.postMessage({\"jupyterEvent\": \"custom.exercise_interaction\", \"data\": {\"interactionType\": 3, \"questionType\": 4, \"questionId\": \"3.2_ThinkHist\", \"learnToolsVersion\": \"0.3.4\", \"valueTowardsCompletion\": 0.0, \"failureMessage\": \"\", \"exceptionClass\": \"\", \"trace\": \"\", \"outcomeType\": 4}}, \"*\")"
      ],
      "text/plain": [
       "<IPython.core.display.Javascript object>"
      ]
     },
     "metadata": {},
     "output_type": "display_data"
    },
    {
     "data": {
      "text/markdown": [
       "<span style=\"color:#33cc99\">Solution:</span> Malignant tumors have higher values for `'Area (mean)'`, on average. Malignant tumors have a larger range of potential values."
      ],
      "text/plain": [
       "Solution: Malignant tumors have higher values for `'Area (mean)'`, on average. Malignant tumors have a larger range of potential values."
      ]
     },
     "metadata": {},
     "output_type": "display_data"
    }
   ],
   "source": [
    "# Check your answer (Run this code cell to receive credit!)\n",
    "step_3.b.solution()"
   ]
  },
  {
   "cell_type": "markdown",
   "id": "9b864d57",
   "metadata": {
    "papermill": {
     "duration": 0.026848,
     "end_time": "2021-12-27T03:25:50.614954",
     "exception": false,
     "start_time": "2021-12-27T03:25:50.588106",
     "status": "completed"
    },
    "tags": []
   },
   "source": [
    "## Step 4: A very useful column\n",
    "\n",
    "#### Part A\n",
    "\n",
    "Use the code cell below to create two KDE plots that show the distribution in values for `'Radius (worst)'` for both benign and malignant tumors.  (_To permit easy comparison, create a single figure containing both KDE plots in the code cell below._)"
   ]
  },
  {
   "cell_type": "code",
   "execution_count": 15,
   "id": "c1f6e59a",
   "metadata": {
    "execution": {
     "iopub.execute_input": "2021-12-27T03:25:50.672528Z",
     "iopub.status.busy": "2021-12-27T03:25:50.671849Z",
     "iopub.status.idle": "2021-12-27T03:25:50.911665Z",
     "shell.execute_reply": "2021-12-27T03:25:50.910693Z",
     "shell.execute_reply.started": "2021-12-27T03:22:29.721000Z"
    },
    "papermill": {
     "duration": 0.269115,
     "end_time": "2021-12-27T03:25:50.911817",
     "exception": false,
     "start_time": "2021-12-27T03:25:50.642702",
     "status": "completed"
    },
    "tags": []
   },
   "outputs": [
    {
     "data": {
      "text/plain": [
       "<AxesSubplot:xlabel='Radius (worst)', ylabel='Density'>"
      ]
     },
     "execution_count": 15,
     "metadata": {},
     "output_type": "execute_result"
    },
    {
     "data": {
      "image/png": "[encoded data removed]",
      "text/plain": [
       "<Figure size 432x288 with 1 Axes>"
      ]
     },
     "metadata": {
      "needs_background": "light"
     },
     "output_type": "display_data"
    }
   ],
   "source": [
    "# For bengin tumors\n",
    "sns.kdeplot(data = cancer_b_data['Radius (worst)'],label = \"bengin-tumor-radius\",shade = True)"
   ]
  },
  {
   "cell_type": "code",
   "execution_count": 16,
   "id": "ff1ffb7f",
   "metadata": {
    "execution": {
     "iopub.execute_input": "2021-12-27T03:25:50.970635Z",
     "iopub.status.busy": "2021-12-27T03:25:50.969910Z",
     "iopub.status.idle": "2021-12-27T03:25:51.200425Z",
     "shell.execute_reply": "2021-12-27T03:25:51.199975Z",
     "shell.execute_reply.started": "2021-12-27T03:23:09.691910Z"
    },
    "papermill": {
     "duration": 0.260752,
     "end_time": "2021-12-27T03:25:51.200597",
     "exception": false,
     "start_time": "2021-12-27T03:25:50.939845",
     "status": "completed"
    },
    "tags": []
   },
   "outputs": [
    {
     "data": {
      "text/plain": [
       "<AxesSubplot:xlabel='Radius (worst)', ylabel='Density'>"
      ]
     },
     "execution_count": 16,
     "metadata": {},
     "output_type": "execute_result"
    },
    {
     "data": {
      "image/png": "[encoded data removed]",
      "text/plain": [
       "<Figure size 432x288 with 1 Axes>"
      ]
     },
     "metadata": {
      "needs_background": "light"
     },
     "output_type": "display_data"
    }
   ],
   "source": [
    "# For malignant tumors\n",
    "sns.kdeplot(data = cancer_m_data['Radius (worst)'],label = \"malignant-tumor-radius\",shade = True)"
   ]
  },
  {
   "cell_type": "code",
   "execution_count": 17,
   "id": "84fa277d",
   "metadata": {
    "execution": {
     "iopub.execute_input": "2021-12-27T03:25:51.258042Z",
     "iopub.status.busy": "2021-12-27T03:25:51.257331Z",
     "iopub.status.idle": "2021-12-27T03:25:51.512780Z",
     "shell.execute_reply": "2021-12-27T03:25:51.512247Z",
     "shell.execute_reply.started": "2021-12-27T03:21:51.816574Z"
    },
    "papermill": {
     "duration": 0.285713,
     "end_time": "2021-12-27T03:25:51.512926",
     "exception": false,
     "start_time": "2021-12-27T03:25:51.227213",
     "status": "completed"
    },
    "tags": []
   },
   "outputs": [
    {
     "data": {
      "application/javascript": [
       "parent.postMessage({\"jupyterEvent\": \"custom.exercise_interaction\", \"data\": {\"outcomeType\": 1, \"valueTowardsCompletion\": 0.5, \"interactionType\": 1, \"questionType\": 2, \"questionId\": \"4.1_PlotThreshold\", \"learnToolsVersion\": \"0.3.4\", \"failureMessage\": \"\", \"exceptionClass\": \"\", \"trace\": \"\"}}, \"*\")"
      ],
      "text/plain": [
       "<IPython.core.display.Javascript object>"
      ]
     },
     "metadata": {},
     "output_type": "display_data"
    },
    {
     "data": {
      "text/markdown": [
       "<span style=\"color:#33cc33\">Correct</span>"
      ],
      "text/plain": [
       "Correct"
      ]
     },
     "metadata": {},
     "output_type": "display_data"
    },
    {
     "data": {
      "image/png": "[encoded data removed]",
      "text/plain": [
       "<Figure size 432x288 with 1 Axes>"
      ]
     },
     "metadata": {
      "needs_background": "light"
     },
     "output_type": "display_data"
    }
   ],
   "source": [
    "# KDE plots for benign and malignant tumors\n",
    "sns.kdeplot(data = cancer_b_data['Radius (worst)'],label = \"bengin-tumor-radius\",shade = True)\n",
    "\n",
    "sns.kdeplot(data = cancer_m_data['Radius (worst)'],label = \"malignant-tumor-radius\",shade = True)\n",
    "\n",
    "# Check your answer\n",
    "step_4.a.check()"
   ]
  },
  {
   "cell_type": "code",
   "execution_count": 18,
   "id": "87fbb1f0",
   "metadata": {
    "execution": {
     "iopub.execute_input": "2021-12-27T03:25:51.572118Z",
     "iopub.status.busy": "2021-12-27T03:25:51.571540Z",
     "iopub.status.idle": "2021-12-27T03:25:51.574639Z",
     "shell.execute_reply": "2021-12-27T03:25:51.575135Z"
    },
    "papermill": {
     "duration": 0.034205,
     "end_time": "2021-12-27T03:25:51.575298",
     "exception": false,
     "start_time": "2021-12-27T03:25:51.541093",
     "status": "completed"
    },
    "tags": []
   },
   "outputs": [],
   "source": [
    "# Lines below will give you a hint or solution code\n",
    "#step_4.a.hint()\n",
    "#step_4.a.solution_plot()"
   ]
  },
  {
   "cell_type": "markdown",
   "id": "dc573871",
   "metadata": {
    "papermill": {
     "duration": 0.02797,
     "end_time": "2021-12-27T03:25:51.632898",
     "exception": false,
     "start_time": "2021-12-27T03:25:51.604928",
     "status": "completed"
    },
    "tags": []
   },
   "source": [
    "#### Part B\n",
    "\n",
    "A hospital has recently started using an algorithm that can diagnose tumors with high accuracy.  Given a tumor with a value for `'Radius (worst)'` of 25, do you think the algorithm is more likely to classify the tumor as benign or malignant?"
   ]
  },
  {
   "cell_type": "markdown",
   "id": "fa4f47e6",
   "metadata": {
    "papermill": {
     "duration": 0.028834,
     "end_time": "2021-12-27T03:25:51.689936",
     "exception": false,
     "start_time": "2021-12-27T03:25:51.661102",
     "status": "completed"
    },
    "tags": []
   },
   "source": [
    "<b> Answer :</b> The algorithm is more likely classify the tumor as malignant."
   ]
  },
  {
   "cell_type": "code",
   "execution_count": 19,
   "id": "de025ea5",
   "metadata": {
    "execution": {
     "iopub.execute_input": "2021-12-27T03:25:51.750938Z",
     "iopub.status.busy": "2021-12-27T03:25:51.750310Z",
     "iopub.status.idle": "2021-12-27T03:25:51.753162Z",
     "shell.execute_reply": "2021-12-27T03:25:51.753716Z"
    },
    "papermill": {
     "duration": 0.035116,
     "end_time": "2021-12-27T03:25:51.753910",
     "exception": false,
     "start_time": "2021-12-27T03:25:51.718794",
     "status": "completed"
    },
    "tags": []
   },
   "outputs": [],
   "source": [
    "#step_4.b.hint()"
   ]
  },
  {
   "cell_type": "code",
   "execution_count": 20,
   "id": "c668f0d5",
   "metadata": {
    "execution": {
     "iopub.execute_input": "2021-12-27T03:25:51.815155Z",
     "iopub.status.busy": "2021-12-27T03:25:51.814538Z",
     "iopub.status.idle": "2021-12-27T03:25:51.820234Z",
     "shell.execute_reply": "2021-12-27T03:25:51.820790Z",
     "shell.execute_reply.started": "2021-12-27T03:25:09.976636Z"
    },
    "papermill": {
     "duration": 0.038816,
     "end_time": "2021-12-27T03:25:51.820981",
     "exception": false,
     "start_time": "2021-12-27T03:25:51.782165",
     "status": "completed"
    },
    "tags": []
   },
   "outputs": [
    {
     "data": {
      "application/javascript": [
       "parent.postMessage({\"jupyterEvent\": \"custom.exercise_interaction\", \"data\": {\"interactionType\": 3, \"questionType\": 4, \"questionId\": \"4.2_ThinkThreshold\", \"learnToolsVersion\": \"0.3.4\", \"valueTowardsCompletion\": 0.0, \"failureMessage\": \"\", \"exceptionClass\": \"\", \"trace\": \"\", \"outcomeType\": 4}}, \"*\")"
      ],
      "text/plain": [
       "<IPython.core.display.Javascript object>"
      ]
     },
     "metadata": {},
     "output_type": "display_data"
    },
    {
     "data": {
      "text/markdown": [
       "<span style=\"color:#33cc99\">Solution:</span> The algorithm is more likely to classify the tumor as malignant. This is because the curve for malignant tumors is much higher than the curve for benign tumors around a value of 25 -- and an algorithm that gets high accuracy is likely to make decisions based on this pattern in the data."
      ],
      "text/plain": [
       "Solution: The algorithm is more likely to classify the tumor as malignant. This is because the curve for malignant tumors is much higher than the curve for benign tumors around a value of 25 -- and an algorithm that gets high accuracy is likely to make decisions based on this pattern in the data."
      ]
     },
     "metadata": {},
     "output_type": "display_data"
    }
   ],
   "source": [
    "# Check your answer (Run this code cell to receive credit!)\n",
    "step_4.b.solution()"
   ]
  },
  {
   "cell_type": "markdown",
   "id": "d305d584",
   "metadata": {
    "papermill": {
     "duration": 0.028478,
     "end_time": "2021-12-27T03:25:51.879381",
     "exception": false,
     "start_time": "2021-12-27T03:25:51.850903",
     "status": "completed"
    },
    "tags": []
   },
   "source": [
    "## Keep going\n",
    "\n",
    "Review all that you've learned and explore how to further customize your plots in the **[next tutorial](https://www.kaggle.com/alexisbcook/choosing-plot-types-and-custom-styles)**!"
   ]
  },
  {
   "cell_type": "markdown",
   "id": "3bcf1c25",
   "metadata": {
    "papermill": {
     "duration": 0.029586,
     "end_time": "2021-12-27T03:25:51.940317",
     "exception": false,
     "start_time": "2021-12-27T03:25:51.910731",
     "status": "completed"
    },
    "tags": []
   },
   "source": [
    "---\n",
    "\n",
    "\n",
    "\n",
    "\n",
    "*Have questions or comments? Visit the [course discussion forum](https://www.kaggle.com/learn/data-visualization/discussion) to chat with other learners.*"
   ]
  }
 ],
 "metadata": {
  "kernelspec": {
   "display_name": "Python 3",
   "language": "python",
   "name": "python3"
  },
  "language_info": {
   "codemirror_mode": {
    "name": "ipython",
    "version": 3
   },
   "file_extension": ".py",
   "mimetype": "text/x-python",
   "name": "python",
   "nbconvert_exporter": "python",
   "pygments_lexer": "ipython3",
   "version": "3.7.12"
  },
  "papermill": {
   "default_parameters": {},
   "duration": 14.232909,
   "end_time": "2021-12-27T03:25:52.679383",
   "environment_variables": {},
   "exception": null,
   "input_path": "__notebook__.ipynb",
   "output_path": "__notebook__.ipynb",
   "parameters": {},
   "start_time": "2021-12-27T03:25:38.446474",
   "version": "2.3.3"
  }
 },
 "nbformat": 4,
 "nbformat_minor": 5
}
