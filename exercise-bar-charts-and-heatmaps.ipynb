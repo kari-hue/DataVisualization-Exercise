{
 "cells": [
  {
   "cell_type": "markdown",
   "id": "f7065800",
   "metadata": {
    "papermill": {
     "duration": 0.02085,
     "end_time": "2021-12-30T16:12:38.685536",
     "exception": false,
     "start_time": "2021-12-30T16:12:38.664686",
     "status": "completed"
    },
    "tags": []
   },
   "source": [
    "**This notebook is an exercise in the [Data Visualization](https://www.kaggle.com/learn/data-visualization) course.  You can reference the tutorial at [this link](https://www.kaggle.com/alexisbcook/bar-charts-and-heatmaps).**\n",
    "\n",
    "---\n"
   ]
  },
  {
   "cell_type": "markdown",
   "id": "10e52e4c",
   "metadata": {
    "papermill": {
     "duration": 0.016004,
     "end_time": "2021-12-30T16:12:38.720640",
     "exception": false,
     "start_time": "2021-12-30T16:12:38.704636",
     "status": "completed"
    },
    "tags": []
   },
   "source": [
    "In this exercise, you will use your new knowledge to propose a solution to a real-world scenario.  To succeed, you will need to import data into Python, answer questions using the data, and generate **bar charts** and **heatmaps** to understand patterns in the data.\n",
    "\n",
    "## Scenario\n",
    "\n",
    "You've recently decided to create your very own video game!  As an avid reader of [IGN Game Reviews](https://www.ign.com/reviews/games), you hear about all of the most recent game releases, along with the ranking they've received from experts, ranging from 0 (_Disaster_) to 10 (_Masterpiece_).\n",
    "\n",
    "![ex2_ign](https://i.imgur.com/Oh06Fu1.png)\n",
    "\n",
    "You're interested in using [IGN reviews](https://www.ign.com/reviews/games) to guide the design of your upcoming game.  Thankfully, someone has summarized the rankings in a really useful CSV file that you can use to guide your analysis.\n",
    "\n",
    "## Setup\n",
    "\n",
    "Run the next cell to import and configure the Python libraries that you need to complete the exercise."
   ]
  },
  {
   "cell_type": "code",
   "execution_count": 1,
   "id": "09fd1b53",
   "metadata": {
    "execution": {
     "iopub.execute_input": "2021-12-30T16:12:38.761444Z",
     "iopub.status.busy": "2021-12-30T16:12:38.760187Z",
     "iopub.status.idle": "2021-12-30T16:12:39.834997Z",
     "shell.execute_reply": "2021-12-30T16:12:39.835710Z",
     "shell.execute_reply.started": "2021-12-26T16:05:20.633789Z"
    },
    "papermill": {
     "duration": 1.093731,
     "end_time": "2021-12-30T16:12:39.836080",
     "exception": false,
     "start_time": "2021-12-30T16:12:38.742349",
     "status": "completed"
    },
    "tags": []
   },
   "outputs": [
    {
     "name": "stdout",
     "output_type": "stream",
     "text": [
      "Setup Complete\n"
     ]
    }
   ],
   "source": [
    "import pandas as pd\n",
    "pd.plotting.register_matplotlib_converters()\n",
    "import matplotlib.pyplot as plt\n",
    "%matplotlib inline\n",
    "import seaborn as sns\n",
    "print(\"Setup Complete\")"
   ]
  },
  {
   "cell_type": "markdown",
   "id": "34ef4eb5",
   "metadata": {
    "papermill": {
     "duration": 0.014116,
     "end_time": "2021-12-30T16:12:39.874003",
     "exception": false,
     "start_time": "2021-12-30T16:12:39.859887",
     "status": "completed"
    },
    "tags": []
   },
   "source": [
    "The questions below will give you feedback on your work. Run the following cell to set up our feedback system."
   ]
  },
  {
   "cell_type": "code",
   "execution_count": 2,
   "id": "6ab2bbc5",
   "metadata": {
    "execution": {
     "iopub.execute_input": "2021-12-30T16:12:39.907411Z",
     "iopub.status.busy": "2021-12-30T16:12:39.906835Z",
     "iopub.status.idle": "2021-12-30T16:12:39.964940Z",
     "shell.execute_reply": "2021-12-30T16:12:39.965432Z",
     "shell.execute_reply.started": "2021-12-26T16:05:27.707401Z"
    },
    "papermill": {
     "duration": 0.076966,
     "end_time": "2021-12-30T16:12:39.965626",
     "exception": false,
     "start_time": "2021-12-30T16:12:39.888660",
     "status": "completed"
    },
    "tags": []
   },
   "outputs": [
    {
     "name": "stdout",
     "output_type": "stream",
     "text": [
      "Setup Complete\n"
     ]
    }
   ],
   "source": [
    "# Set up code checking\n",
    "import os\n",
    "if not os.path.exists(\"../input/ign_scores.csv\"):\n",
    "    os.symlink(\"../input/data-for-datavis/ign_scores.csv\", \"../input/ign_scores.csv\") \n",
    "from learntools.core import binder\n",
    "binder.bind(globals())\n",
    "from learntools.data_viz_to_coder.ex3 import *\n",
    "print(\"Setup Complete\")"
   ]
  },
  {
   "cell_type": "markdown",
   "id": "220ebdd6",
   "metadata": {
    "papermill": {
     "duration": 0.013991,
     "end_time": "2021-12-30T16:12:39.994586",
     "exception": false,
     "start_time": "2021-12-30T16:12:39.980595",
     "status": "completed"
    },
    "tags": []
   },
   "source": [
    "## Step 1: Load the data\n",
    "\n",
    "Read the IGN data file into `ign_data`.  Use the `\"Platform\"` column to label the rows."
   ]
  },
  {
   "cell_type": "code",
   "execution_count": 3,
   "id": "3c5aef44",
   "metadata": {
    "execution": {
     "iopub.execute_input": "2021-12-30T16:12:40.028918Z",
     "iopub.status.busy": "2021-12-30T16:12:40.027991Z",
     "iopub.status.idle": "2021-12-30T16:12:40.038661Z",
     "shell.execute_reply": "2021-12-30T16:12:40.039069Z",
     "shell.execute_reply.started": "2021-12-26T16:06:51.660618Z"
    },
    "papermill": {
     "duration": 0.030419,
     "end_time": "2021-12-30T16:12:40.039230",
     "exception": false,
     "start_time": "2021-12-30T16:12:40.008811",
     "status": "completed"
    },
    "tags": []
   },
   "outputs": [
    {
     "data": {
      "application/javascript": [
       "parent.postMessage({\"jupyterEvent\": \"custom.exercise_interaction\", \"data\": {\"outcomeType\": 1, \"valueTowardsCompletion\": 0.5, \"interactionType\": 1, \"questionType\": 1, \"questionId\": \"1_LoadIGNData\", \"learnToolsVersion\": \"0.3.4\", \"failureMessage\": \"\", \"exceptionClass\": \"\", \"trace\": \"\"}}, \"*\")"
      ],
      "text/plain": [
       "<IPython.core.display.Javascript object>"
      ]
     },
     "metadata": {},
     "output_type": "display_data"
    },
    {
     "data": {
      "text/markdown": [
       "<span style=\"color:#33cc33\">Correct</span>"
      ],
      "text/plain": [
       "Correct"
      ]
     },
     "metadata": {},
     "output_type": "display_data"
    }
   ],
   "source": [
    "# Path of the file to read\n",
    "ign_filepath = \"../input/ign_scores.csv\"\n",
    "\n",
    "# Fill in the line below to read the file into a variable ign_data\n",
    "ign_data = pd.read_csv(ign_filepath,index_col = \"Platform\")\n",
    "\n",
    "# Run the line below with no changes to check that you've loaded the data correctly\n",
    "step_1.check()"
   ]
  },
  {
   "cell_type": "code",
   "execution_count": 4,
   "id": "e1ac9230",
   "metadata": {
    "execution": {
     "iopub.execute_input": "2021-12-30T16:12:40.075009Z",
     "iopub.status.busy": "2021-12-30T16:12:40.074169Z",
     "iopub.status.idle": "2021-12-30T16:12:40.076968Z",
     "shell.execute_reply": "2021-12-30T16:12:40.077346Z"
    },
    "papermill": {
     "duration": 0.023197,
     "end_time": "2021-12-30T16:12:40.077531",
     "exception": false,
     "start_time": "2021-12-30T16:12:40.054334",
     "status": "completed"
    },
    "tags": []
   },
   "outputs": [],
   "source": [
    "# Lines below will give you a hint or solution code\n",
    "#step_1.hint()\n",
    "#step_1.solution()"
   ]
  },
  {
   "cell_type": "markdown",
   "id": "33f179f5",
   "metadata": {
    "papermill": {
     "duration": 0.01543,
     "end_time": "2021-12-30T16:12:40.108119",
     "exception": false,
     "start_time": "2021-12-30T16:12:40.092689",
     "status": "completed"
    },
    "tags": []
   },
   "source": [
    "## Step 2: Review the data\n",
    "\n",
    "Use a Python command to print the entire dataset."
   ]
  },
  {
   "cell_type": "code",
   "execution_count": 5,
   "id": "5cb5ead2",
   "metadata": {
    "execution": {
     "iopub.execute_input": "2021-12-30T16:12:40.141987Z",
     "iopub.status.busy": "2021-12-30T16:12:40.141098Z",
     "iopub.status.idle": "2021-12-30T16:12:40.156449Z",
     "shell.execute_reply": "2021-12-30T16:12:40.156917Z",
     "shell.execute_reply.started": "2021-12-26T16:07:21.032135Z"
    },
    "papermill": {
     "duration": 0.033764,
     "end_time": "2021-12-30T16:12:40.157084",
     "exception": false,
     "start_time": "2021-12-30T16:12:40.123320",
     "status": "completed"
    },
    "tags": []
   },
   "outputs": [
    {
     "name": "stdout",
     "output_type": "stream",
     "text": [
      "                        Action  Action, Adventure  Adventure  Fighting  \\\n",
      "Platform                                                                 \n",
      "Dreamcast             6.882857           7.511111   6.281818  8.200000   \n",
      "Game Boy Advance      6.373077           7.507692   6.057143  6.226316   \n",
      "Game Boy Color        6.272727           8.166667   5.307692  4.500000   \n",
      "GameCube              6.532584           7.608333   6.753846  7.422222   \n",
      "Nintendo 3DS          6.670833           7.481818   7.414286  6.614286   \n",
      "Nintendo 64           6.649057           8.250000   7.000000  5.681250   \n",
      "Nintendo DS           5.903608           7.240000   6.259804  6.320000   \n",
      "Nintendo DSi          6.827027           8.500000   6.090909  7.500000   \n",
      "PC                    6.805791           7.334746   7.136798  7.166667   \n",
      "PlayStation           6.016406           7.933333   6.313725  6.553731   \n",
      "PlayStation 2         6.467361           7.250000   6.315152  7.306349   \n",
      "PlayStation 3         6.853819           7.306154   6.820988  7.710938   \n",
      "PlayStation 4         7.550000           7.835294   7.388571  7.280000   \n",
      "PlayStation Portable  6.467797           7.000000   6.938095  6.822222   \n",
      "PlayStation Vita      7.173077           6.133333   8.057143  7.527273   \n",
      "Wii                   6.262718           7.294643   6.234043  6.733333   \n",
      "Wireless              7.041699           7.312500   6.972414  6.740000   \n",
      "Xbox                  6.819512           7.479032   6.821429  7.029630   \n",
      "Xbox 360              6.719048           7.137838   6.857353  7.552239   \n",
      "Xbox One              7.702857           7.566667   7.254545  7.171429   \n",
      "iPhone                6.865445           7.764286   7.745833  6.087500   \n",
      "\n",
      "                      Platformer    Puzzle       RPG    Racing   Shooter  \\\n",
      "Platform                                                                   \n",
      "Dreamcast               8.340000  8.088889  7.700000  7.042500  7.616667   \n",
      "Game Boy Advance        6.970588  6.532143  7.542857  6.657143  6.444444   \n",
      "Game Boy Color          6.352941  6.583333  7.285714  5.897436  4.500000   \n",
      "GameCube                6.665714  6.133333  7.890909  6.852632  6.981818   \n",
      "Nintendo 3DS            7.503448  8.000000  7.719231  6.900000  7.033333   \n",
      "Nintendo 64             6.889655  7.461538  6.050000  6.939623  8.042857   \n",
      "Nintendo DS             6.840000  6.604615  7.222619  6.038636  6.965217   \n",
      "Nintendo DSi            7.250000  6.810526  7.166667  6.563636  6.500000   \n",
      "PC                      7.410938  6.924706  7.759930  7.032418  7.084878   \n",
      "PlayStation             6.579070  6.757895  7.910000  6.773387  6.424000   \n",
      "PlayStation 2           7.068421  6.354545  7.473077  6.585065  6.641667   \n",
      "PlayStation 3           7.735714  7.350000  7.436111  6.978571  7.219553   \n",
      "PlayStation 4           8.390909  7.400000  7.944000  7.590000  7.804444   \n",
      "PlayStation Portable    7.194737  6.726667  6.817778  6.401961  7.071053   \n",
      "PlayStation Vita        8.568750  8.250000  7.337500  6.300000  7.660000   \n",
      "Wii                     7.054255  6.426984  7.410345  5.011667  6.479798   \n",
      "Wireless                7.509091  7.360550  8.260000  6.898305  6.906780   \n",
      "Xbox                    7.303448  5.125000  8.277778  7.021591  7.485417   \n",
      "Xbox 360                7.559574  7.141026  7.650000  6.996154  7.338153   \n",
      "Xbox One                6.733333  8.100000  8.291667  8.163636  8.020000   \n",
      "iPhone                  7.471930  7.810784  7.185185  7.315789  6.995588   \n",
      "\n",
      "                      Simulation    Sports  Strategy  \n",
      "Platform                                              \n",
      "Dreamcast               7.628571  7.272222  6.433333  \n",
      "Game Boy Advance        6.928571  6.694444  7.175000  \n",
      "Game Boy Color          5.900000  5.790698  7.400000  \n",
      "GameCube                8.028571  7.481319  7.116667  \n",
      "Nintendo 3DS            7.700000  6.388889  7.900000  \n",
      "Nintendo 64             5.675000  6.967857  6.900000  \n",
      "Nintendo DS             5.874359  5.936667  6.644737  \n",
      "Nintendo DSi            5.195652  5.644444  6.566667  \n",
      "PC                      7.104889  6.902424  7.310207  \n",
      "PlayStation             6.918182  6.751220  6.496875  \n",
      "PlayStation 2           7.152632  7.197826  7.238889  \n",
      "PlayStation 3           7.142857  7.485816  7.355172  \n",
      "PlayStation 4           9.250000  7.430000  6.566667  \n",
      "PlayStation Portable    6.761538  6.956790  6.550000  \n",
      "PlayStation Vita        5.725000  7.130000  8.900000  \n",
      "Wii                     6.327027  5.966901  6.975000  \n",
      "Wireless                7.802857  7.417699  7.542857  \n",
      "Xbox                    7.155556  7.884397  7.313333  \n",
      "Xbox 360                7.325000  7.317857  7.112245  \n",
      "Xbox One                7.733333  7.331818  8.500000  \n",
      "iPhone                  7.328571  7.152174  7.534921  \n"
     ]
    }
   ],
   "source": [
    "# Print the data\n",
    "print(ign_data)# Your code here"
   ]
  },
  {
   "cell_type": "markdown",
   "id": "400c3231",
   "metadata": {
    "papermill": {
     "duration": 0.015345,
     "end_time": "2021-12-30T16:12:40.188009",
     "exception": false,
     "start_time": "2021-12-30T16:12:40.172664",
     "status": "completed"
    },
    "tags": []
   },
   "source": [
    "The dataset that you've just printed shows the average score, by platform and genre.  Use the data to answer the questions below."
   ]
  },
  {
   "cell_type": "code",
   "execution_count": 6,
   "id": "dca54213",
   "metadata": {
    "execution": {
     "iopub.execute_input": "2021-12-30T16:12:40.222106Z",
     "iopub.status.busy": "2021-12-30T16:12:40.221497Z",
     "iopub.status.idle": "2021-12-30T16:12:40.227296Z",
     "shell.execute_reply": "2021-12-30T16:12:40.227829Z",
     "shell.execute_reply.started": "2021-12-26T16:11:50.392588Z"
    },
    "papermill": {
     "duration": 0.024349,
     "end_time": "2021-12-30T16:12:40.227985",
     "exception": false,
     "start_time": "2021-12-30T16:12:40.203636",
     "status": "completed"
    },
    "tags": []
   },
   "outputs": [
    {
     "data": {
      "application/javascript": [
       "parent.postMessage({\"jupyterEvent\": \"custom.exercise_interaction\", \"data\": {\"outcomeType\": 1, \"valueTowardsCompletion\": 0.5, \"interactionType\": 1, \"questionType\": 1, \"questionId\": \"2_ReviewData\", \"learnToolsVersion\": \"0.3.4\", \"failureMessage\": \"\", \"exceptionClass\": \"\", \"trace\": \"\"}}, \"*\")"
      ],
      "text/plain": [
       "<IPython.core.display.Javascript object>"
      ]
     },
     "metadata": {},
     "output_type": "display_data"
    },
    {
     "data": {
      "text/markdown": [
       "<span style=\"color:#33cc33\">Correct</span>"
      ],
      "text/plain": [
       "Correct"
      ]
     },
     "metadata": {},
     "output_type": "display_data"
    }
   ],
   "source": [
    "# Fill in the line below: What is the highest average score received by PC games,\n",
    "# for any genre?\n",
    "high_score = 7.759930\n",
    "\n",
    "# Fill in the line below: On the Playstation Vita platform, which genre has the \n",
    "# lowest average score? Please provide the name of the column, and put your answer \n",
    "# in single quotes (e.g., 'Action', 'Adventure', 'Fighting', etc.)\n",
    "worst_genre = 'Simulation'\n",
    "\n",
    "# Check your answers\n",
    "step_2.check()"
   ]
  },
  {
   "cell_type": "code",
   "execution_count": 7,
   "id": "89f9fb43",
   "metadata": {
    "execution": {
     "iopub.execute_input": "2021-12-30T16:12:40.263116Z",
     "iopub.status.busy": "2021-12-30T16:12:40.262594Z",
     "iopub.status.idle": "2021-12-30T16:12:40.264977Z",
     "shell.execute_reply": "2021-12-30T16:12:40.265515Z"
    },
    "papermill": {
     "duration": 0.021407,
     "end_time": "2021-12-30T16:12:40.265665",
     "exception": false,
     "start_time": "2021-12-30T16:12:40.244258",
     "status": "completed"
    },
    "tags": []
   },
   "outputs": [],
   "source": [
    "# Lines below will give you a hint or solution code\n",
    "#step_2.hint()\n",
    "#step_2.solution()"
   ]
  },
  {
   "cell_type": "markdown",
   "id": "4fd72ae7",
   "metadata": {
    "papermill": {
     "duration": 0.01599,
     "end_time": "2021-12-30T16:12:40.298014",
     "exception": false,
     "start_time": "2021-12-30T16:12:40.282024",
     "status": "completed"
    },
    "tags": []
   },
   "source": [
    "## Step 3: Which platform is best?\n",
    "\n",
    "Since you can remember, your favorite video game has been [**Mario Kart Wii**](https://www.ign.com/games/mario-kart-wii), a racing game released for the Wii platform in 2008.  And, IGN agrees with you that it is a great game -- their rating for this game is a whopping 8.9!  Inspired by the success of this game, you're considering creating your very own racing game for the Wii platform.\n",
    "\n",
    "#### Part A\n",
    "\n",
    "Create a bar chart that shows the average score for **racing** games, for each platform.  Your chart should have one bar for each platform. "
   ]
  },
  {
   "cell_type": "code",
   "execution_count": 8,
   "id": "3294f10c",
   "metadata": {
    "execution": {
     "iopub.execute_input": "2021-12-30T16:12:40.333656Z",
     "iopub.status.busy": "2021-12-30T16:12:40.333043Z",
     "iopub.status.idle": "2021-12-30T16:12:40.761948Z",
     "shell.execute_reply": "2021-12-30T16:12:40.762421Z",
     "shell.execute_reply.started": "2021-12-26T16:18:29.572446Z"
    },
    "papermill": {
     "duration": 0.448376,
     "end_time": "2021-12-30T16:12:40.762672",
     "exception": false,
     "start_time": "2021-12-30T16:12:40.314296",
     "status": "completed"
    },
    "tags": []
   },
   "outputs": [
    {
     "data": {
      "application/javascript": [
       "parent.postMessage({\"jupyterEvent\": \"custom.exercise_interaction\", \"data\": {\"outcomeType\": 1, \"valueTowardsCompletion\": 0.5, \"interactionType\": 1, \"questionType\": 2, \"questionId\": \"3.1_PlotRacing\", \"learnToolsVersion\": \"0.3.4\", \"failureMessage\": \"\", \"exceptionClass\": \"\", \"trace\": \"\"}}, \"*\")"
      ],
      "text/plain": [
       "<IPython.core.display.Javascript object>"
      ]
     },
     "metadata": {},
     "output_type": "display_data"
    },
    {
     "data": {
      "text/markdown": [
       "<span style=\"color:#33cc33\">Correct</span>"
      ],
      "text/plain": [
       "Correct"
      ]
     },
     "metadata": {},
     "output_type": "display_data"
    },
    {
     "data": {
      "image/png": "[encoded data removed]",
      "text/plain": [
       "<Figure size 1440x720 with 1 Axes>"
      ]
     },
     "metadata": {
      "needs_background": "light"
     },
     "output_type": "display_data"
    }
   ],
   "source": [
    "#setting the width and height of the figure\n",
    "\n",
    "plt.figure(figsize=(20,10))\n",
    "\n",
    "# Adding the title\n",
    "\n",
    "plt.title('Gaming platforms for the average of racing genre')\n",
    "\n",
    "# Bar chart showing average score for racing games by platform\n",
    "sns.barplot(x = ign_data.index,y= ign_data['Racing'])\n",
    "\n",
    "# Check your answer\n",
    "step_3.a.check()"
   ]
  },
  {
   "cell_type": "code",
   "execution_count": 9,
   "id": "4cab7819",
   "metadata": {
    "execution": {
     "iopub.execute_input": "2021-12-30T16:12:40.808917Z",
     "iopub.status.busy": "2021-12-30T16:12:40.807714Z",
     "iopub.status.idle": "2021-12-30T16:12:40.810783Z",
     "shell.execute_reply": "2021-12-30T16:12:40.811216Z"
    },
    "papermill": {
     "duration": 0.024822,
     "end_time": "2021-12-30T16:12:40.811423",
     "exception": false,
     "start_time": "2021-12-30T16:12:40.786601",
     "status": "completed"
    },
    "tags": []
   },
   "outputs": [],
   "source": [
    "# Lines below will give you a hint or solution code\n",
    "#step_3.a.hint()\n",
    "#step_3.a.solution_plot()"
   ]
  },
  {
   "cell_type": "markdown",
   "id": "534dd02d",
   "metadata": {
    "papermill": {
     "duration": 0.017992,
     "end_time": "2021-12-30T16:12:40.847878",
     "exception": false,
     "start_time": "2021-12-30T16:12:40.829886",
     "status": "completed"
    },
    "tags": []
   },
   "source": [
    "#### Part B\n",
    "\n",
    "Based on the bar chart, do you expect a racing game for the **Wii** platform to receive a high rating?  If not, what gaming platform seems to be the best alternative?"
   ]
  },
  {
   "cell_type": "markdown",
   "id": "05ce1fe6",
   "metadata": {
    "papermill": {
     "duration": 0.017723,
     "end_time": "2021-12-30T16:12:40.883508",
     "exception": false,
     "start_time": "2021-12-30T16:12:40.865785",
     "status": "completed"
    },
    "tags": []
   },
   "source": [
    "<b>Answer:</b>\n",
    "From the above barchart study \"Wii platform\" is the worst performing platform for the Racing games so I need to drop the plan of going bor wii platform instead I need to choose \"Xbox one\" because it is the one performing way better than Wii platform."
   ]
  },
  {
   "cell_type": "code",
   "execution_count": 10,
   "id": "df83f0fe",
   "metadata": {
    "execution": {
     "iopub.execute_input": "2021-12-30T16:12:40.922406Z",
     "iopub.status.busy": "2021-12-30T16:12:40.921846Z",
     "iopub.status.idle": "2021-12-30T16:12:40.925660Z",
     "shell.execute_reply": "2021-12-30T16:12:40.926093Z"
    },
    "papermill": {
     "duration": 0.024795,
     "end_time": "2021-12-30T16:12:40.926242",
     "exception": false,
     "start_time": "2021-12-30T16:12:40.901447",
     "status": "completed"
    },
    "tags": []
   },
   "outputs": [],
   "source": [
    "#step_3.b.hint()"
   ]
  },
  {
   "cell_type": "code",
   "execution_count": 11,
   "id": "3440eb0b",
   "metadata": {
    "execution": {
     "iopub.execute_input": "2021-12-30T16:12:40.968445Z",
     "iopub.status.busy": "2021-12-30T16:12:40.967876Z",
     "iopub.status.idle": "2021-12-30T16:12:40.971917Z",
     "shell.execute_reply": "2021-12-30T16:12:40.972417Z",
     "shell.execute_reply.started": "2021-12-26T16:22:18.226994Z"
    },
    "papermill": {
     "duration": 0.027629,
     "end_time": "2021-12-30T16:12:40.972584",
     "exception": false,
     "start_time": "2021-12-30T16:12:40.944955",
     "status": "completed"
    },
    "tags": []
   },
   "outputs": [
    {
     "data": {
      "application/javascript": [
       "parent.postMessage({\"jupyterEvent\": \"custom.exercise_interaction\", \"data\": {\"interactionType\": 3, \"questionType\": 4, \"questionId\": \"3.2_ThinkRacing\", \"learnToolsVersion\": \"0.3.4\", \"valueTowardsCompletion\": 0.0, \"failureMessage\": \"\", \"exceptionClass\": \"\", \"trace\": \"\", \"outcomeType\": 4}}, \"*\")"
      ],
      "text/plain": [
       "<IPython.core.display.Javascript object>"
      ]
     },
     "metadata": {},
     "output_type": "display_data"
    },
    {
     "data": {
      "text/markdown": [
       "<span style=\"color:#33cc99\">Solution:</span> Based on the data, we should not expect a racing game for the Wii platform to receive a high rating.  In fact, on average, racing games for Wii score lower than any other platform.  Xbox One seems to be the best alternative, since it has the highest average ratings."
      ],
      "text/plain": [
       "Solution: Based on the data, we should not expect a racing game for the Wii platform to receive a high rating.  In fact, on average, racing games for Wii score lower than any other platform.  Xbox One seems to be the best alternative, since it has the highest average ratings."
      ]
     },
     "metadata": {},
     "output_type": "display_data"
    }
   ],
   "source": [
    "# Check your answer (Run this code cell to receive credit!)\n",
    "step_3.b.solution()"
   ]
  },
  {
   "cell_type": "markdown",
   "id": "28febce2",
   "metadata": {
    "papermill": {
     "duration": 0.018694,
     "end_time": "2021-12-30T16:12:41.010247",
     "exception": false,
     "start_time": "2021-12-30T16:12:40.991553",
     "status": "completed"
    },
    "tags": []
   },
   "source": [
    "## Step 4: All possible combinations!\n",
    "\n",
    "Eventually, you decide against creating a racing game for Wii, but you're still committed to creating your own video game!  Since your gaming interests are pretty broad (_... you generally love most video games_), you decide to use the IGN data to inform your new choice of genre and platform.\n",
    "\n",
    "#### Part A\n",
    "\n",
    "Use the data to create a heatmap of average score by genre and platform.  "
   ]
  },
  {
   "cell_type": "code",
   "execution_count": 12,
   "id": "0e507440",
   "metadata": {
    "execution": {
     "iopub.execute_input": "2021-12-30T16:12:41.052517Z",
     "iopub.status.busy": "2021-12-30T16:12:41.051940Z",
     "iopub.status.idle": "2021-12-30T16:12:42.458087Z",
     "shell.execute_reply": "2021-12-30T16:12:42.458537Z",
     "shell.execute_reply.started": "2021-12-26T16:25:55.975993Z"
    },
    "papermill": {
     "duration": 1.428375,
     "end_time": "2021-12-30T16:12:42.458696",
     "exception": false,
     "start_time": "2021-12-30T16:12:41.030321",
     "status": "completed"
    },
    "tags": []
   },
   "outputs": [
    {
     "data": {
      "application/javascript": [
       "parent.postMessage({\"jupyterEvent\": \"custom.exercise_interaction\", \"data\": {\"outcomeType\": 1, \"valueTowardsCompletion\": 0.5, \"interactionType\": 1, \"questionType\": 2, \"questionId\": \"4.1_PlotHeat\", \"learnToolsVersion\": \"0.3.4\", \"failureMessage\": \"\", \"exceptionClass\": \"\", \"trace\": \"\"}}, \"*\")"
      ],
      "text/plain": [
       "<IPython.core.display.Javascript object>"
      ]
     },
     "metadata": {},
     "output_type": "display_data"
    },
    {
     "data": {
      "text/markdown": [
       "<span style=\"color:#33cc33\">Correct</span>"
      ],
      "text/plain": [
       "Correct"
      ]
     },
     "metadata": {},
     "output_type": "display_data"
    },
    {
     "data": {
      "image/png": "[encoded data removed]",
      "text/plain": [
       "<Figure size 1440x720 with 2 Axes>"
      ]
     },
     "metadata": {
      "needs_background": "light"
     },
     "output_type": "display_data"
    }
   ],
   "source": [
    "# setting the size of the figure\n",
    "\n",
    "plt.figure(figsize=(20,10))\n",
    "\n",
    "# Add title\n",
    "\n",
    "plt.title(\"Entire study of the gaming realm\")\n",
    "\n",
    "# Heatmap showing average game score by platform and genre\n",
    "sns.heatmap(data = ign_data,annot = True)\n",
    "\n",
    "# Add label\n",
    "\n",
    "plt.xlabel(\"Genre\")\n",
    "\n",
    "\n",
    "# Check your answer\n",
    "step_4.a.check()"
   ]
  },
  {
   "cell_type": "code",
   "execution_count": 13,
   "id": "61d6e338",
   "metadata": {
    "execution": {
     "iopub.execute_input": "2021-12-30T16:12:42.509716Z",
     "iopub.status.busy": "2021-12-30T16:12:42.509099Z",
     "iopub.status.idle": "2021-12-30T16:12:42.511115Z",
     "shell.execute_reply": "2021-12-30T16:12:42.512111Z"
    },
    "papermill": {
     "duration": 0.030436,
     "end_time": "2021-12-30T16:12:42.512275",
     "exception": false,
     "start_time": "2021-12-30T16:12:42.481839",
     "status": "completed"
    },
    "tags": []
   },
   "outputs": [],
   "source": [
    "# Lines below will give you a hint or solution code\n",
    "#step_4.a.hint()\n",
    "#step_4.a.solution_plot()"
   ]
  },
  {
   "cell_type": "markdown",
   "id": "2b79a942",
   "metadata": {
    "papermill": {
     "duration": 0.022791,
     "end_time": "2021-12-30T16:12:42.558118",
     "exception": false,
     "start_time": "2021-12-30T16:12:42.535327",
     "status": "completed"
    },
    "tags": []
   },
   "source": [
    "#### Part B\n",
    "\n",
    "Which combination of genre and platform receives the highest average ratings?  Which combination receives the lowest average rankings?"
   ]
  },
  {
   "cell_type": "markdown",
   "id": "3911fc1d",
   "metadata": {
    "papermill": {
     "duration": 0.022587,
     "end_time": "2021-12-30T16:12:42.603764",
     "exception": false,
     "start_time": "2021-12-30T16:12:42.581177",
     "status": "completed"
    },
    "tags": []
   },
   "source": [
    "<b>Answer:</b> From the above heat map we can conclude:\n",
    "\n",
    "Genre recieving the highest rating: Simulation [Ratings = 9.2, platform = 'PlayStation 4']\n",
    "\n",
    "There are three genre receiving the lowest average rating and they are:\n",
    "1. Fighting [Ratings = 4.5, platform = 'Game Boy Color']\n",
    "2. Shooter [Ratings = 4.5, platform = 'Game Boy Color']\n",
    "\n"
   ]
  },
  {
   "cell_type": "code",
   "execution_count": 14,
   "id": "4ec39f23",
   "metadata": {
    "execution": {
     "iopub.execute_input": "2021-12-30T16:12:42.653801Z",
     "iopub.status.busy": "2021-12-30T16:12:42.652909Z",
     "iopub.status.idle": "2021-12-30T16:12:42.655346Z",
     "shell.execute_reply": "2021-12-30T16:12:42.654927Z"
    },
    "papermill": {
     "duration": 0.02897,
     "end_time": "2021-12-30T16:12:42.655491",
     "exception": false,
     "start_time": "2021-12-30T16:12:42.626521",
     "status": "completed"
    },
    "tags": []
   },
   "outputs": [],
   "source": [
    "#step_4.b.hint()"
   ]
  },
  {
   "cell_type": "code",
   "execution_count": 15,
   "id": "16dc367e",
   "metadata": {
    "execution": {
     "iopub.execute_input": "2021-12-30T16:12:42.707438Z",
     "iopub.status.busy": "2021-12-30T16:12:42.706904Z",
     "iopub.status.idle": "2021-12-30T16:12:42.710256Z",
     "shell.execute_reply": "2021-12-30T16:12:42.710808Z",
     "shell.execute_reply.started": "2021-12-26T16:32:31.331056Z"
    },
    "papermill": {
     "duration": 0.032363,
     "end_time": "2021-12-30T16:12:42.710955",
     "exception": false,
     "start_time": "2021-12-30T16:12:42.678592",
     "status": "completed"
    },
    "tags": []
   },
   "outputs": [
    {
     "data": {
      "application/javascript": [
       "parent.postMessage({\"jupyterEvent\": \"custom.exercise_interaction\", \"data\": {\"interactionType\": 3, \"questionType\": 4, \"questionId\": \"4.2_ThinkHeat\", \"learnToolsVersion\": \"0.3.4\", \"valueTowardsCompletion\": 0.0, \"failureMessage\": \"\", \"exceptionClass\": \"\", \"trace\": \"\", \"outcomeType\": 4}}, \"*\")"
      ],
      "text/plain": [
       "<IPython.core.display.Javascript object>"
      ]
     },
     "metadata": {},
     "output_type": "display_data"
    },
    {
     "data": {
      "text/markdown": [
       "<span style=\"color:#33cc99\">Solution:</span> **Simulation** games for **Playstation 4** receive the highest average ratings (9.2). **Shooting** and **Fighting** games for **Game Boy Color** receive the lowest average rankings (4.5)."
      ],
      "text/plain": [
       "Solution: **Simulation** games for **Playstation 4** receive the highest average ratings (9.2). **Shooting** and **Fighting** games for **Game Boy Color** receive the lowest average rankings (4.5)."
      ]
     },
     "metadata": {},
     "output_type": "display_data"
    }
   ],
   "source": [
    "# Check your answer (Run this code cell to receive credit!)\n",
    "step_4.b.solution()"
   ]
  },
  {
   "cell_type": "markdown",
   "id": "689737bf",
   "metadata": {
    "papermill": {
     "duration": 0.024042,
     "end_time": "2021-12-30T16:12:42.759132",
     "exception": false,
     "start_time": "2021-12-30T16:12:42.735090",
     "status": "completed"
    },
    "tags": []
   },
   "source": [
    "# Keep going\n",
    "\n",
    "Move on to learn all about **[scatter plots](https://www.kaggle.com/alexisbcook/scatter-plots)**!"
   ]
  },
  {
   "cell_type": "markdown",
   "id": "91e49a0c",
   "metadata": {
    "papermill": {
     "duration": 0.023467,
     "end_time": "2021-12-30T16:12:42.806270",
     "exception": false,
     "start_time": "2021-12-30T16:12:42.782803",
     "status": "completed"
    },
    "tags": []
   },
   "source": [
    "---\n",
    "\n",
    "\n",
    "\n",
    "\n",
    "*Have questions or comments? Visit the [course discussion forum](https://www.kaggle.com/learn/data-visualization/discussion) to chat with other learners.*"
   ]
  }
 ],
 "metadata": {
  "kernelspec": {
   "display_name": "Python 3",
   "language": "python",
   "name": "python3"
  },
  "language_info": {
   "codemirror_mode": {
    "name": "ipython",
    "version": 3
   },
   "file_extension": ".py",
   "mimetype": "text/x-python",
   "name": "python",
   "nbconvert_exporter": "python",
   "pygments_lexer": "ipython3",
   "version": "3.7.12"
  },
  "papermill": {
   "default_parameters": {},
   "duration": 13.173074,
   "end_time": "2021-12-30T16:12:43.438663",
   "environment_variables": {},
   "exception": null,
   "input_path": "__notebook__.ipynb",
   "output_path": "__notebook__.ipynb",
   "parameters": {},
   "start_time": "2021-12-30T16:12:30.265589",
   "version": "2.3.3"
  }
 },
 "nbformat": 4,
 "nbformat_minor": 5
}
