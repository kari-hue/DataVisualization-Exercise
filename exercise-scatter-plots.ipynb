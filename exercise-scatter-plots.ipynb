{
 "cells": [
  {
   "cell_type": "markdown",
   "id": "9f34f84a",
   "metadata": {
    "papermill": {
     "duration": 0.029442,
     "end_time": "2021-12-27T02:51:02.614029",
     "exception": false,
     "start_time": "2021-12-27T02:51:02.584587",
     "status": "completed"
    },
    "tags": []
   },
   "source": [
    "**This notebook is an exercise in the [Data Visualization](https://www.kaggle.com/learn/data-visualization) course.  You can reference the tutorial at [this link](https://www.kaggle.com/alexisbcook/scatter-plots).**\n",
    "\n",
    "---\n"
   ]
  },
  {
   "cell_type": "markdown",
   "id": "b284f073",
   "metadata": {
    "papermill": {
     "duration": 0.028541,
     "end_time": "2021-12-27T02:51:02.671821",
     "exception": false,
     "start_time": "2021-12-27T02:51:02.643280",
     "status": "completed"
    },
    "tags": []
   },
   "source": [
    "In this exercise, you will use your new knowledge to propose a solution to a real-world scenario.  To succeed, you will need to import data into Python, answer questions using the data, and generate **scatter plots** to understand patterns in the data.\n",
    "\n",
    "## Scenario\n",
    "\n",
    "You work for a major candy producer, and your goal is to write a report that your company can use to guide the design of its next product.  Soon after starting your research, you stumble across this [very interesting dataset](https://fivethirtyeight.com/features/the-ultimate-halloween-candy-power-ranking/) containing results from a fun survey to crowdsource favorite candies.\n",
    "\n",
    "## Setup\n",
    "\n",
    "Run the next cell to import and configure the Python libraries that you need to complete the exercise."
   ]
  },
  {
   "cell_type": "code",
   "execution_count": 1,
   "id": "4983fc2b",
   "metadata": {
    "execution": {
     "iopub.execute_input": "2021-12-27T02:51:02.733588Z",
     "iopub.status.busy": "2021-12-27T02:51:02.732340Z",
     "iopub.status.idle": "2021-12-27T02:51:03.750527Z",
     "shell.execute_reply": "2021-12-27T02:51:03.751321Z",
     "shell.execute_reply.started": "2021-12-27T02:25:05.227530Z"
    },
    "papermill": {
     "duration": 1.050968,
     "end_time": "2021-12-27T02:51:03.751718",
     "exception": false,
     "start_time": "2021-12-27T02:51:02.700750",
     "status": "completed"
    },
    "tags": []
   },
   "outputs": [
    {
     "name": "stdout",
     "output_type": "stream",
     "text": [
      "Setup Complete\n"
     ]
    }
   ],
   "source": [
    "import pandas as pd\n",
    "pd.plotting.register_matplotlib_converters()\n",
    "import matplotlib.pyplot as plt\n",
    "%matplotlib inline\n",
    "import seaborn as sns\n",
    "print(\"Setup Complete\")"
   ]
  },
  {
   "cell_type": "markdown",
   "id": "a7fa2729",
   "metadata": {
    "papermill": {
     "duration": 0.028936,
     "end_time": "2021-12-27T02:51:03.811794",
     "exception": false,
     "start_time": "2021-12-27T02:51:03.782858",
     "status": "completed"
    },
    "tags": []
   },
   "source": [
    "The questions below will give you feedback on your work. Run the following cell to set up our feedback system."
   ]
  },
  {
   "cell_type": "code",
   "execution_count": 2,
   "id": "a634b99b",
   "metadata": {
    "execution": {
     "iopub.execute_input": "2021-12-27T02:51:03.875835Z",
     "iopub.status.busy": "2021-12-27T02:51:03.875021Z",
     "iopub.status.idle": "2021-12-27T02:51:03.934802Z",
     "shell.execute_reply": "2021-12-27T02:51:03.935500Z",
     "shell.execute_reply.started": "2021-12-27T02:25:21.767313Z"
    },
    "papermill": {
     "duration": 0.094531,
     "end_time": "2021-12-27T02:51:03.935712",
     "exception": false,
     "start_time": "2021-12-27T02:51:03.841181",
     "status": "completed"
    },
    "tags": []
   },
   "outputs": [
    {
     "name": "stdout",
     "output_type": "stream",
     "text": [
      "Setup Complete\n"
     ]
    }
   ],
   "source": [
    "# Set up code checking\n",
    "import os\n",
    "if not os.path.exists(\"../input/candy.csv\"):\n",
    "    os.symlink(\"../input/data-for-datavis/candy.csv\", \"../input/candy.csv\") \n",
    "from learntools.core import binder\n",
    "binder.bind(globals())\n",
    "from learntools.data_viz_to_coder.ex4 import *\n",
    "print(\"Setup Complete\")"
   ]
  },
  {
   "cell_type": "markdown",
   "id": "551f8f62",
   "metadata": {
    "papermill": {
     "duration": 0.030423,
     "end_time": "2021-12-27T02:51:03.996765",
     "exception": false,
     "start_time": "2021-12-27T02:51:03.966342",
     "status": "completed"
    },
    "tags": []
   },
   "source": [
    "## Step 1: Load the Data\n",
    "\n",
    "Read the candy data file into `candy_data`.  Use the `\"id\"` column to label the rows."
   ]
  },
  {
   "cell_type": "code",
   "execution_count": 3,
   "id": "463267b1",
   "metadata": {
    "execution": {
     "iopub.execute_input": "2021-12-27T02:51:04.060434Z",
     "iopub.status.busy": "2021-12-27T02:51:04.059460Z",
     "iopub.status.idle": "2021-12-27T02:51:04.071809Z",
     "shell.execute_reply": "2021-12-27T02:51:04.072402Z",
     "shell.execute_reply.started": "2021-12-27T02:25:30.847016Z"
    },
    "papermill": {
     "duration": 0.046627,
     "end_time": "2021-12-27T02:51:04.072565",
     "exception": false,
     "start_time": "2021-12-27T02:51:04.025938",
     "status": "completed"
    },
    "tags": []
   },
   "outputs": [
    {
     "data": {
      "application/javascript": [
       "parent.postMessage({\"jupyterEvent\": \"custom.exercise_interaction\", \"data\": {\"outcomeType\": 1, \"valueTowardsCompletion\": 0.3333333333333333, \"interactionType\": 1, \"questionType\": 1, \"questionId\": \"1_LoadData\", \"learnToolsVersion\": \"0.3.4\", \"failureMessage\": \"\", \"exceptionClass\": \"\", \"trace\": \"\"}}, \"*\")"
      ],
      "text/plain": [
       "<IPython.core.display.Javascript object>"
      ]
     },
     "metadata": {},
     "output_type": "display_data"
    },
    {
     "data": {
      "text/markdown": [
       "<span style=\"color:#33cc33\">Correct</span>"
      ],
      "text/plain": [
       "Correct"
      ]
     },
     "metadata": {},
     "output_type": "display_data"
    }
   ],
   "source": [
    "# Path of the file to read\n",
    "candy_filepath = \"../input/candy.csv\"\n",
    "\n",
    "# Fill in the line below to read the file into a variable candy_data\n",
    "candy_data = pd.read_csv(candy_filepath,index_col = 'id')\n",
    "\n",
    "# Run the line below with no changes to check that you've loaded the data correctly\n",
    "step_1.check()"
   ]
  },
  {
   "cell_type": "code",
   "execution_count": 4,
   "id": "aca8f0ae",
   "metadata": {
    "execution": {
     "iopub.execute_input": "2021-12-27T02:51:04.138109Z",
     "iopub.status.busy": "2021-12-27T02:51:04.137131Z",
     "iopub.status.idle": "2021-12-27T02:51:04.139355Z",
     "shell.execute_reply": "2021-12-27T02:51:04.139896Z"
    },
    "papermill": {
     "duration": 0.03641,
     "end_time": "2021-12-27T02:51:04.140042",
     "exception": false,
     "start_time": "2021-12-27T02:51:04.103632",
     "status": "completed"
    },
    "tags": []
   },
   "outputs": [],
   "source": [
    "# Lines below will give you a hint or solution code\n",
    "#step_1.hint()\n",
    "#step_1.solution()"
   ]
  },
  {
   "cell_type": "markdown",
   "id": "8cf8af0d",
   "metadata": {
    "papermill": {
     "duration": 0.038345,
     "end_time": "2021-12-27T02:51:04.212505",
     "exception": false,
     "start_time": "2021-12-27T02:51:04.174160",
     "status": "completed"
    },
    "tags": []
   },
   "source": [
    "## Step 2: Review the data\n",
    "\n",
    "Use a Python command to print the first five rows of the data."
   ]
  },
  {
   "cell_type": "code",
   "execution_count": 5,
   "id": "00f09f9f",
   "metadata": {
    "execution": {
     "iopub.execute_input": "2021-12-27T02:51:04.281789Z",
     "iopub.status.busy": "2021-12-27T02:51:04.280845Z",
     "iopub.status.idle": "2021-12-27T02:51:04.308240Z",
     "shell.execute_reply": "2021-12-27T02:51:04.308841Z",
     "shell.execute_reply.started": "2021-12-27T02:25:50.167611Z"
    },
    "papermill": {
     "duration": 0.06131,
     "end_time": "2021-12-27T02:51:04.309018",
     "exception": false,
     "start_time": "2021-12-27T02:51:04.247708",
     "status": "completed"
    },
    "tags": []
   },
   "outputs": [
    {
     "data": {
      "text/html": [
       "<div>\n",
       "<style scoped>\n",
       "    .dataframe tbody tr th:only-of-type {\n",
       "        vertical-align: middle;\n",
       "    }\n",
       "\n",
       "    .dataframe tbody tr th {\n",
       "        vertical-align: top;\n",
       "    }\n",
       "\n",
       "    .dataframe thead th {\n",
       "        text-align: right;\n",
       "    }\n",
       "</style>\n",
       "<table border=\"1\" class=\"dataframe\">\n",
       "  <thead>\n",
       "    <tr style=\"text-align: right;\">\n",
       "      <th></th>\n",
       "      <th>competitorname</th>\n",
       "      <th>chocolate</th>\n",
       "      <th>fruity</th>\n",
       "      <th>caramel</th>\n",
       "      <th>peanutyalmondy</th>\n",
       "      <th>nougat</th>\n",
       "      <th>crispedricewafer</th>\n",
       "      <th>hard</th>\n",
       "      <th>bar</th>\n",
       "      <th>pluribus</th>\n",
       "      <th>sugarpercent</th>\n",
       "      <th>pricepercent</th>\n",
       "      <th>winpercent</th>\n",
       "    </tr>\n",
       "    <tr>\n",
       "      <th>id</th>\n",
       "      <th></th>\n",
       "      <th></th>\n",
       "      <th></th>\n",
       "      <th></th>\n",
       "      <th></th>\n",
       "      <th></th>\n",
       "      <th></th>\n",
       "      <th></th>\n",
       "      <th></th>\n",
       "      <th></th>\n",
       "      <th></th>\n",
       "      <th></th>\n",
       "      <th></th>\n",
       "    </tr>\n",
       "  </thead>\n",
       "  <tbody>\n",
       "    <tr>\n",
       "      <th>0</th>\n",
       "      <td>100 Grand</td>\n",
       "      <td>Yes</td>\n",
       "      <td>No</td>\n",
       "      <td>Yes</td>\n",
       "      <td>No</td>\n",
       "      <td>No</td>\n",
       "      <td>Yes</td>\n",
       "      <td>No</td>\n",
       "      <td>Yes</td>\n",
       "      <td>No</td>\n",
       "      <td>0.732</td>\n",
       "      <td>0.860</td>\n",
       "      <td>66.971725</td>\n",
       "    </tr>\n",
       "    <tr>\n",
       "      <th>1</th>\n",
       "      <td>3 Musketeers</td>\n",
       "      <td>Yes</td>\n",
       "      <td>No</td>\n",
       "      <td>No</td>\n",
       "      <td>No</td>\n",
       "      <td>Yes</td>\n",
       "      <td>No</td>\n",
       "      <td>No</td>\n",
       "      <td>Yes</td>\n",
       "      <td>No</td>\n",
       "      <td>0.604</td>\n",
       "      <td>0.511</td>\n",
       "      <td>67.602936</td>\n",
       "    </tr>\n",
       "    <tr>\n",
       "      <th>2</th>\n",
       "      <td>Air Heads</td>\n",
       "      <td>No</td>\n",
       "      <td>Yes</td>\n",
       "      <td>No</td>\n",
       "      <td>No</td>\n",
       "      <td>No</td>\n",
       "      <td>No</td>\n",
       "      <td>No</td>\n",
       "      <td>No</td>\n",
       "      <td>No</td>\n",
       "      <td>0.906</td>\n",
       "      <td>0.511</td>\n",
       "      <td>52.341465</td>\n",
       "    </tr>\n",
       "    <tr>\n",
       "      <th>3</th>\n",
       "      <td>Almond Joy</td>\n",
       "      <td>Yes</td>\n",
       "      <td>No</td>\n",
       "      <td>No</td>\n",
       "      <td>Yes</td>\n",
       "      <td>No</td>\n",
       "      <td>No</td>\n",
       "      <td>No</td>\n",
       "      <td>Yes</td>\n",
       "      <td>No</td>\n",
       "      <td>0.465</td>\n",
       "      <td>0.767</td>\n",
       "      <td>50.347546</td>\n",
       "    </tr>\n",
       "    <tr>\n",
       "      <th>4</th>\n",
       "      <td>Baby Ruth</td>\n",
       "      <td>Yes</td>\n",
       "      <td>No</td>\n",
       "      <td>Yes</td>\n",
       "      <td>Yes</td>\n",
       "      <td>Yes</td>\n",
       "      <td>No</td>\n",
       "      <td>No</td>\n",
       "      <td>Yes</td>\n",
       "      <td>No</td>\n",
       "      <td>0.604</td>\n",
       "      <td>0.767</td>\n",
       "      <td>56.914547</td>\n",
       "    </tr>\n",
       "  </tbody>\n",
       "</table>\n",
       "</div>"
      ],
      "text/plain": [
       "   competitorname chocolate fruity caramel peanutyalmondy nougat  \\\n",
       "id                                                                 \n",
       "0       100 Grand       Yes     No     Yes             No     No   \n",
       "1    3 Musketeers       Yes     No      No             No    Yes   \n",
       "2       Air Heads        No    Yes      No             No     No   \n",
       "3      Almond Joy       Yes     No      No            Yes     No   \n",
       "4       Baby Ruth       Yes     No     Yes            Yes    Yes   \n",
       "\n",
       "   crispedricewafer hard  bar pluribus  sugarpercent  pricepercent  winpercent  \n",
       "id                                                                              \n",
       "0               Yes   No  Yes       No         0.732         0.860   66.971725  \n",
       "1                No   No  Yes       No         0.604         0.511   67.602936  \n",
       "2                No   No   No       No         0.906         0.511   52.341465  \n",
       "3                No   No  Yes       No         0.465         0.767   50.347546  \n",
       "4                No   No  Yes       No         0.604         0.767   56.914547  "
      ]
     },
     "execution_count": 5,
     "metadata": {},
     "output_type": "execute_result"
    }
   ],
   "source": [
    "# Printing the first five rows of the data\n",
    "\n",
    "candy_data.head()"
   ]
  },
  {
   "cell_type": "markdown",
   "id": "1497e220",
   "metadata": {
    "papermill": {
     "duration": 0.030614,
     "end_time": "2021-12-27T02:51:04.375963",
     "exception": false,
     "start_time": "2021-12-27T02:51:04.345349",
     "status": "completed"
    },
    "tags": []
   },
   "source": [
    "The dataset contains 83 rows, where each corresponds to a different candy bar.  There are 13 columns:\n",
    "- `'competitorname'` contains the name of the candy bar. \n",
    "- the next **9** columns (from `'chocolate'` to `'pluribus'`) describe the candy.  For instance, rows with chocolate candies have `\"Yes\"` in the `'chocolate'` column (and candies without chocolate have `\"No\"` in the same column).\n",
    "- `'sugarpercent'` provides some indication of the amount of sugar, where higher values signify higher sugar content.\n",
    "- `'pricepercent'` shows the price per unit, relative to the other candies in the dataset.\n",
    "- `'winpercent'` is calculated from the survey results; higher values indicate that the candy was more popular with survey respondents.\n",
    "\n",
    "Use the first five rows of the data to answer the questions below."
   ]
  },
  {
   "cell_type": "code",
   "execution_count": 6,
   "id": "93722885",
   "metadata": {
    "execution": {
     "iopub.execute_input": "2021-12-27T02:51:04.448775Z",
     "iopub.status.busy": "2021-12-27T02:51:04.447713Z",
     "iopub.status.idle": "2021-12-27T02:51:04.452758Z",
     "shell.execute_reply": "2021-12-27T02:51:04.453249Z",
     "shell.execute_reply.started": "2021-12-27T02:26:00.094865Z"
    },
    "papermill": {
     "duration": 0.046453,
     "end_time": "2021-12-27T02:51:04.453407",
     "exception": false,
     "start_time": "2021-12-27T02:51:04.406954",
     "status": "completed"
    },
    "tags": []
   },
   "outputs": [
    {
     "data": {
      "application/javascript": [
       "parent.postMessage({\"jupyterEvent\": \"custom.exercise_interaction\", \"data\": {\"outcomeType\": 1, \"valueTowardsCompletion\": 0.3333333333333333, \"interactionType\": 1, \"questionType\": 1, \"questionId\": \"2_ReviewData\", \"learnToolsVersion\": \"0.3.4\", \"failureMessage\": \"\", \"exceptionClass\": \"\", \"trace\": \"\"}}, \"*\")"
      ],
      "text/plain": [
       "<IPython.core.display.Javascript object>"
      ]
     },
     "metadata": {},
     "output_type": "display_data"
    },
    {
     "data": {
      "text/markdown": [
       "<span style=\"color:#33cc33\">Correct</span>"
      ],
      "text/plain": [
       "Correct"
      ]
     },
     "metadata": {},
     "output_type": "display_data"
    }
   ],
   "source": [
    "# Fill in the line below: Which candy was more popular with survey respondents:\n",
    "# '3 Musketeers' or 'Almond Joy'?  (Please enclose your answer in single quotes.)\n",
    "more_popular = '3 Musketeers'\n",
    "\n",
    "# Fill in the line below: Which candy has higher sugar content: 'Air Heads'\n",
    "# or 'Baby Ruth'? (Please enclose your answer in single quotes.)\n",
    "more_sugar = 'Air Heads'\n",
    "\n",
    "# Check your answers\n",
    "step_2.check()"
   ]
  },
  {
   "cell_type": "code",
   "execution_count": 7,
   "id": "1b05f982",
   "metadata": {
    "execution": {
     "iopub.execute_input": "2021-12-27T02:51:04.528350Z",
     "iopub.status.busy": "2021-12-27T02:51:04.527389Z",
     "iopub.status.idle": "2021-12-27T02:51:04.530531Z",
     "shell.execute_reply": "2021-12-27T02:51:04.531146Z"
    },
    "papermill": {
     "duration": 0.0399,
     "end_time": "2021-12-27T02:51:04.531318",
     "exception": false,
     "start_time": "2021-12-27T02:51:04.491418",
     "status": "completed"
    },
    "tags": []
   },
   "outputs": [],
   "source": [
    "# Lines below will give you a hint or solution code\n",
    "#step_2.hint()\n",
    "#step_2.solution()"
   ]
  },
  {
   "cell_type": "markdown",
   "id": "bd20baa6",
   "metadata": {
    "papermill": {
     "duration": 0.040127,
     "end_time": "2021-12-27T02:51:04.603635",
     "exception": false,
     "start_time": "2021-12-27T02:51:04.563508",
     "status": "completed"
    },
    "tags": []
   },
   "source": [
    "## Step 3: The role of sugar\n",
    "\n",
    "Do people tend to prefer candies with higher sugar content?  \n",
    "\n",
    "#### Part A\n",
    "\n",
    "Create a scatter plot that shows the relationship between `'sugarpercent'` (on the horizontal x-axis) and `'winpercent'` (on the vertical y-axis).  _Don't add a regression line just yet -- you'll do that in the next step!_"
   ]
  },
  {
   "cell_type": "code",
   "execution_count": 8,
   "id": "ef8731fc",
   "metadata": {
    "execution": {
     "iopub.execute_input": "2021-12-27T02:51:04.671349Z",
     "iopub.status.busy": "2021-12-27T02:51:04.670428Z",
     "iopub.status.idle": "2021-12-27T02:51:04.991356Z",
     "shell.execute_reply": "2021-12-27T02:51:04.990761Z",
     "shell.execute_reply.started": "2021-12-27T02:26:08.467909Z"
    },
    "papermill": {
     "duration": 0.355843,
     "end_time": "2021-12-27T02:51:04.991524",
     "exception": false,
     "start_time": "2021-12-27T02:51:04.635681",
     "status": "completed"
    },
    "tags": []
   },
   "outputs": [
    {
     "data": {
      "application/javascript": [
       "parent.postMessage({\"jupyterEvent\": \"custom.exercise_interaction\", \"data\": {\"outcomeType\": 1, \"valueTowardsCompletion\": 0.3333333333333333, \"interactionType\": 1, \"questionType\": 2, \"questionId\": \"3.1_PlotBlueScatter\", \"learnToolsVersion\": \"0.3.4\", \"failureMessage\": \"\", \"exceptionClass\": \"\", \"trace\": \"\"}}, \"*\")"
      ],
      "text/plain": [
       "<IPython.core.display.Javascript object>"
      ]
     },
     "metadata": {},
     "output_type": "display_data"
    },
    {
     "data": {
      "text/markdown": [
       "<span style=\"color:#33cc33\">Correct</span>"
      ],
      "text/plain": [
       "Correct"
      ]
     },
     "metadata": {},
     "output_type": "display_data"
    },
    {
     "data": {
      "image/png": "[encoded data removed]",
      "text/plain": [
       "<Figure size 1440x720 with 1 Axes>"
      ]
     },
     "metadata": {
      "needs_background": "light"
     },
     "output_type": "display_data"
    }
   ],
   "source": [
    "# Let's define the figure size\n",
    "plt.figure(figsize = (20,10))\n",
    "\n",
    "# Let's give our scatter plot a title\n",
    "\n",
    "plt.title(\"Affect of sugar in winpercent\")\n",
    "\n",
    "# Scatter plot showing the relationship between 'sugarpercent' and 'winpercent'\n",
    "sns.scatterplot(x = candy_data['sugarpercent'],y = candy_data['winpercent'])\n",
    "\n",
    "# Adding the label to the plot\n",
    "plt.xlabel('Sugar percent')\n",
    "plt.ylabel('Win percent')\n",
    "\n",
    "# Check your answer\n",
    "step_3.a.check()"
   ]
  },
  {
   "cell_type": "code",
   "execution_count": 9,
   "id": "51566907",
   "metadata": {
    "execution": {
     "iopub.execute_input": "2021-12-27T02:51:05.064428Z",
     "iopub.status.busy": "2021-12-27T02:51:05.063464Z",
     "iopub.status.idle": "2021-12-27T02:51:05.066919Z",
     "shell.execute_reply": "2021-12-27T02:51:05.067439Z"
    },
    "papermill": {
     "duration": 0.040291,
     "end_time": "2021-12-27T02:51:05.067599",
     "exception": false,
     "start_time": "2021-12-27T02:51:05.027308",
     "status": "completed"
    },
    "tags": []
   },
   "outputs": [],
   "source": [
    "# Lines below will give you a hint or solution code\n",
    "#step_3.a.hint()\n",
    "#step_3.a.solution_plot()"
   ]
  },
  {
   "cell_type": "markdown",
   "id": "c4b9ca61",
   "metadata": {
    "papermill": {
     "duration": 0.033139,
     "end_time": "2021-12-27T02:51:05.134878",
     "exception": false,
     "start_time": "2021-12-27T02:51:05.101739",
     "status": "completed"
    },
    "tags": []
   },
   "source": [
    "#### Part B\n",
    "\n",
    "Does the scatter plot show a **strong** correlation between the two variables?  If so, are candies with more sugar relatively more or less popular with the survey respondents?"
   ]
  },
  {
   "cell_type": "markdown",
   "id": "e2dd2849",
   "metadata": {
    "papermill": {
     "duration": 0.032597,
     "end_time": "2021-12-27T02:51:05.200452",
     "exception": false,
     "start_time": "2021-12-27T02:51:05.167855",
     "status": "completed"
    },
    "tags": []
   },
   "source": [
    "<b>Answer:</b>The scatter plot doesn't shows positive correlation between the two variables. Actually the data points in the graph is very unevenly distributed so drwaing out any conclusion out of it is extremly difficult and we cannot say much."
   ]
  },
  {
   "cell_type": "code",
   "execution_count": 10,
   "id": "79a6d13a",
   "metadata": {
    "execution": {
     "iopub.execute_input": "2021-12-27T02:51:05.270600Z",
     "iopub.status.busy": "2021-12-27T02:51:05.269636Z",
     "iopub.status.idle": "2021-12-27T02:51:05.273483Z",
     "shell.execute_reply": "2021-12-27T02:51:05.274094Z"
    },
    "papermill": {
     "duration": 0.040958,
     "end_time": "2021-12-27T02:51:05.274264",
     "exception": false,
     "start_time": "2021-12-27T02:51:05.233306",
     "status": "completed"
    },
    "tags": []
   },
   "outputs": [],
   "source": [
    "#step_3.b.hint()"
   ]
  },
  {
   "cell_type": "code",
   "execution_count": 11,
   "id": "0ad7280a",
   "metadata": {
    "execution": {
     "iopub.execute_input": "2021-12-27T02:51:05.345534Z",
     "iopub.status.busy": "2021-12-27T02:51:05.344611Z",
     "iopub.status.idle": "2021-12-27T02:51:05.351700Z",
     "shell.execute_reply": "2021-12-27T02:51:05.352294Z",
     "shell.execute_reply.started": "2021-12-26T17:09:39.732239Z"
    },
    "papermill": {
     "duration": 0.044694,
     "end_time": "2021-12-27T02:51:05.352449",
     "exception": false,
     "start_time": "2021-12-27T02:51:05.307755",
     "status": "completed"
    },
    "tags": []
   },
   "outputs": [
    {
     "data": {
      "application/javascript": [
       "parent.postMessage({\"jupyterEvent\": \"custom.exercise_interaction\", \"data\": {\"interactionType\": 3, \"questionType\": 4, \"questionId\": \"3.2_ThinkBlueScatter\", \"learnToolsVersion\": \"0.3.4\", \"valueTowardsCompletion\": 0.0, \"failureMessage\": \"\", \"exceptionClass\": \"\", \"trace\": \"\", \"outcomeType\": 4}}, \"*\")"
      ],
      "text/plain": [
       "<IPython.core.display.Javascript object>"
      ]
     },
     "metadata": {},
     "output_type": "display_data"
    },
    {
     "data": {
      "text/markdown": [
       "<span style=\"color:#33cc99\">Solution:</span> The scatter plot does not show a strong correlation between the two variables. Since there is no clear relationship between the two variables, this tells us that sugar content does not play a strong role in candy popularity."
      ],
      "text/plain": [
       "Solution: The scatter plot does not show a strong correlation between the two variables. Since there is no clear relationship between the two variables, this tells us that sugar content does not play a strong role in candy popularity."
      ]
     },
     "metadata": {},
     "output_type": "display_data"
    }
   ],
   "source": [
    "# Check your answer (Run this code cell to receive credit!)\n",
    "step_3.b.solution()"
   ]
  },
  {
   "cell_type": "markdown",
   "id": "219aaba4",
   "metadata": {
    "papermill": {
     "duration": 0.033913,
     "end_time": "2021-12-27T02:51:05.421034",
     "exception": false,
     "start_time": "2021-12-27T02:51:05.387121",
     "status": "completed"
    },
    "tags": []
   },
   "source": [
    "## Step 4: Take a closer look\n",
    "\n",
    "#### Part A\n",
    "\n",
    "Create the same scatter plot you created in **Step 3**, but now with a regression line!"
   ]
  },
  {
   "cell_type": "code",
   "execution_count": 12,
   "id": "c44ba135",
   "metadata": {
    "execution": {
     "iopub.execute_input": "2021-12-27T02:51:05.498282Z",
     "iopub.status.busy": "2021-12-27T02:51:05.497295Z",
     "iopub.status.idle": "2021-12-27T02:51:05.875343Z",
     "shell.execute_reply": "2021-12-27T02:51:05.875989Z",
     "shell.execute_reply.started": "2021-12-27T02:26:33.859119Z"
    },
    "papermill": {
     "duration": 0.420374,
     "end_time": "2021-12-27T02:51:05.876178",
     "exception": false,
     "start_time": "2021-12-27T02:51:05.455804",
     "status": "completed"
    },
    "tags": []
   },
   "outputs": [
    {
     "data": {
      "application/javascript": [
       "parent.postMessage({\"jupyterEvent\": \"custom.exercise_interaction\", \"data\": {\"outcomeType\": 1, \"valueTowardsCompletion\": 0.3333333333333333, \"interactionType\": 1, \"questionType\": 2, \"questionId\": \"4.1_PlotBlueReg\", \"learnToolsVersion\": \"0.3.4\", \"failureMessage\": \"\", \"exceptionClass\": \"\", \"trace\": \"\"}}, \"*\")"
      ],
      "text/plain": [
       "<IPython.core.display.Javascript object>"
      ]
     },
     "metadata": {},
     "output_type": "display_data"
    },
    {
     "data": {
      "text/markdown": [
       "<span style=\"color:#33cc33\">Correct</span>"
      ],
      "text/plain": [
       "Correct"
      ]
     },
     "metadata": {},
     "output_type": "display_data"
    },
    {
     "data": {
      "image/png": "[encoded data removed]",
      "text/plain": [
       "<Figure size 1440x720 with 1 Axes>"
      ]
     },
     "metadata": {
      "needs_background": "light"
     },
     "output_type": "display_data"
    }
   ],
   "source": [
    "# Scatter plot w/ regression line showing the relationship between 'sugarpercent' and 'winpercent'\n",
    "# Let's define the figure size\n",
    "plt.figure(figsize = (20,10))\n",
    "\n",
    "# Let's give our scatter plot a title\n",
    "\n",
    "plt.title(\"Affect of sugar in winpercent\")\n",
    "\n",
    "# Scatter plot showing the relationship between 'sugarpercent' and 'winpercent'\n",
    "sns.regplot(x = candy_data['sugarpercent'],y = candy_data['winpercent'])\n",
    "\n",
    "# Adding the label to the plot\n",
    "plt.xlabel('Sugar percent')\n",
    "plt.ylabel('Win percent')\n",
    "\n",
    "\n",
    "# Check your answer\n",
    "step_4.a.check()"
   ]
  },
  {
   "cell_type": "code",
   "execution_count": 13,
   "id": "057a99b7",
   "metadata": {
    "execution": {
     "iopub.execute_input": "2021-12-27T02:51:05.955727Z",
     "iopub.status.busy": "2021-12-27T02:51:05.955055Z",
     "iopub.status.idle": "2021-12-27T02:51:05.957346Z",
     "shell.execute_reply": "2021-12-27T02:51:05.957936Z"
    },
    "papermill": {
     "duration": 0.043731,
     "end_time": "2021-12-27T02:51:05.958087",
     "exception": false,
     "start_time": "2021-12-27T02:51:05.914356",
     "status": "completed"
    },
    "tags": []
   },
   "outputs": [],
   "source": [
    "# Lines below will give you a hint or solution code\n",
    "#step_4.a.hint()\n",
    "#step_4.a.solution_plot()"
   ]
  },
  {
   "cell_type": "markdown",
   "id": "aa2c6e02",
   "metadata": {
    "papermill": {
     "duration": 0.037198,
     "end_time": "2021-12-27T02:51:06.032243",
     "exception": false,
     "start_time": "2021-12-27T02:51:05.995045",
     "status": "completed"
    },
    "tags": []
   },
   "source": [
    "#### Part B\n",
    "\n",
    "According to the plot above, is there a **slight** correlation between `'winpercent'` and `'sugarpercent'`?  What does this tell you about the candy that people tend to prefer?"
   ]
  },
  {
   "cell_type": "markdown",
   "id": "8f868710",
   "metadata": {
    "papermill": {
     "duration": 0.036739,
     "end_time": "2021-12-27T02:51:06.106681",
     "exception": false,
     "start_time": "2021-12-27T02:51:06.069942",
     "status": "completed"
    },
    "tags": []
   },
   "source": [
    "<b> Answer:</b> The answer doesn't change much but introducing a regression line shows a slight positive correlation of \"Sugarpercent\" and \"winpercent\". Which says that respondents are most likely to love candies with more sugar in it."
   ]
  },
  {
   "cell_type": "code",
   "execution_count": 14,
   "id": "4fcd248b",
   "metadata": {
    "execution": {
     "iopub.execute_input": "2021-12-27T02:51:06.183633Z",
     "iopub.status.busy": "2021-12-27T02:51:06.183022Z",
     "iopub.status.idle": "2021-12-27T02:51:06.185641Z",
     "shell.execute_reply": "2021-12-27T02:51:06.186246Z"
    },
    "papermill": {
     "duration": 0.042819,
     "end_time": "2021-12-27T02:51:06.186397",
     "exception": false,
     "start_time": "2021-12-27T02:51:06.143578",
     "status": "completed"
    },
    "tags": []
   },
   "outputs": [],
   "source": [
    "#step_4.b.hint()"
   ]
  },
  {
   "cell_type": "code",
   "execution_count": 15,
   "id": "b77a9101",
   "metadata": {
    "execution": {
     "iopub.execute_input": "2021-12-27T02:51:06.263949Z",
     "iopub.status.busy": "2021-12-27T02:51:06.263299Z",
     "iopub.status.idle": "2021-12-27T02:51:06.268931Z",
     "shell.execute_reply": "2021-12-27T02:51:06.269568Z",
     "shell.execute_reply.started": "2021-12-26T17:02:23.409174Z"
    },
    "papermill": {
     "duration": 0.045973,
     "end_time": "2021-12-27T02:51:06.269729",
     "exception": false,
     "start_time": "2021-12-27T02:51:06.223756",
     "status": "completed"
    },
    "tags": []
   },
   "outputs": [
    {
     "data": {
      "application/javascript": [
       "parent.postMessage({\"jupyterEvent\": \"custom.exercise_interaction\", \"data\": {\"interactionType\": 3, \"questionType\": 4, \"questionId\": \"4.2_ThinkBlueReg\", \"learnToolsVersion\": \"0.3.4\", \"valueTowardsCompletion\": 0.0, \"failureMessage\": \"\", \"exceptionClass\": \"\", \"trace\": \"\", \"outcomeType\": 4}}, \"*\")"
      ],
      "text/plain": [
       "<IPython.core.display.Javascript object>"
      ]
     },
     "metadata": {},
     "output_type": "display_data"
    },
    {
     "data": {
      "text/markdown": [
       "<span style=\"color:#33cc99\">Solution:</span> Since the regression line has a slightly positive slope, this tells us that there is a slightly positive correlation between `'winpercent'` and `'sugarpercent'`. Thus, people have a slight preference for candies containing relatively more sugar."
      ],
      "text/plain": [
       "Solution: Since the regression line has a slightly positive slope, this tells us that there is a slightly positive correlation between `'winpercent'` and `'sugarpercent'`. Thus, people have a slight preference for candies containing relatively more sugar."
      ]
     },
     "metadata": {},
     "output_type": "display_data"
    }
   ],
   "source": [
    "# Check your answer (Run this code cell to receive credit!)\n",
    "step_4.b.solution()"
   ]
  },
  {
   "cell_type": "markdown",
   "id": "1a24d9e7",
   "metadata": {
    "papermill": {
     "duration": 0.038092,
     "end_time": "2021-12-27T02:51:06.346315",
     "exception": false,
     "start_time": "2021-12-27T02:51:06.308223",
     "status": "completed"
    },
    "tags": []
   },
   "source": [
    "## Step 5: Chocolate!\n",
    "\n",
    "In the code cell below, create a scatter plot to show the relationship between `'pricepercent'` (on the horizontal x-axis) and `'winpercent'` (on the vertical y-axis). Use the `'chocolate'` column to color-code the points.  _Don't add any regression lines just yet -- you'll do that in the next step!_"
   ]
  },
  {
   "cell_type": "code",
   "execution_count": 16,
   "id": "418ea07f",
   "metadata": {
    "execution": {
     "iopub.execute_input": "2021-12-27T02:51:06.426949Z",
     "iopub.status.busy": "2021-12-27T02:51:06.426005Z",
     "iopub.status.idle": "2021-12-27T02:51:06.775316Z",
     "shell.execute_reply": "2021-12-27T02:51:06.774764Z",
     "shell.execute_reply.started": "2021-12-27T02:26:46.076966Z"
    },
    "papermill": {
     "duration": 0.390207,
     "end_time": "2021-12-27T02:51:06.775454",
     "exception": false,
     "start_time": "2021-12-27T02:51:06.385247",
     "status": "completed"
    },
    "tags": []
   },
   "outputs": [
    {
     "data": {
      "application/javascript": [
       "parent.postMessage({\"jupyterEvent\": \"custom.exercise_interaction\", \"data\": {\"outcomeType\": 1, \"valueTowardsCompletion\": 0.3333333333333333, \"interactionType\": 1, \"questionType\": 2, \"questionId\": \"5_ColorScatter\", \"learnToolsVersion\": \"0.3.4\", \"failureMessage\": \"\", \"exceptionClass\": \"\", \"trace\": \"\"}}, \"*\")"
      ],
      "text/plain": [
       "<IPython.core.display.Javascript object>"
      ]
     },
     "metadata": {},
     "output_type": "display_data"
    },
    {
     "data": {
      "text/markdown": [
       "<span style=\"color:#33cc33\">Correct</span>"
      ],
      "text/plain": [
       "Correct"
      ]
     },
     "metadata": {},
     "output_type": "display_data"
    },
    {
     "data": {
      "image/png": "[encoded data removed]",
      "text/plain": [
       "<Figure size 1440x720 with 1 Axes>"
      ]
     },
     "metadata": {
      "needs_background": "light"
     },
     "output_type": "display_data"
    }
   ],
   "source": [
    "# Let's define the figure size\n",
    "plt.figure(figsize = (20,10))\n",
    "\n",
    "# Let's give our scatter plot a title\n",
    "\n",
    "plt.title(\"Affect of sugar in winpercent\")\n",
    "\n",
    "# Scatter plot showing the relationship between 'pricepercent', 'winpercent', and 'chocolate'\n",
    "\n",
    "sns.scatterplot(x = candy_data['pricepercent'],y = candy_data['winpercent'],hue = candy_data['chocolate'])\n",
    "\n",
    "# Adding the label to the plot\n",
    "plt.xlabel('Price percent')\n",
    "plt.ylabel('Win percent')\n",
    "\n",
    "\n",
    "# Check your answer\n",
    "step_5.check()"
   ]
  },
  {
   "cell_type": "code",
   "execution_count": 17,
   "id": "870942c8",
   "metadata": {
    "execution": {
     "iopub.execute_input": "2021-12-27T02:51:06.862209Z",
     "iopub.status.busy": "2021-12-27T02:51:06.861525Z",
     "iopub.status.idle": "2021-12-27T02:51:06.862951Z",
     "shell.execute_reply": "2021-12-27T02:51:06.863461Z"
    },
    "papermill": {
     "duration": 0.047436,
     "end_time": "2021-12-27T02:51:06.863626",
     "exception": false,
     "start_time": "2021-12-27T02:51:06.816190",
     "status": "completed"
    },
    "tags": []
   },
   "outputs": [],
   "source": [
    "# Lines below will give you a hint or solution code\n",
    "#step_5.hint()\n",
    "#step_5.solution_plot()"
   ]
  },
  {
   "cell_type": "markdown",
   "id": "a10f3192",
   "metadata": {
    "papermill": {
     "duration": 0.039866,
     "end_time": "2021-12-27T02:51:06.944539",
     "exception": false,
     "start_time": "2021-12-27T02:51:06.904673",
     "status": "completed"
    },
    "tags": []
   },
   "source": [
    "Can you see any interesting patterns in the scatter plot?  We'll investigate this plot further  by adding regression lines in the next step!\n",
    "\n",
    "## Step 6: Investigate chocolate\n",
    "\n",
    "#### Part A\n",
    "\n",
    "Create the same scatter plot you created in **Step 5**, but now with two regression lines, corresponding to (1) chocolate candies and (2) candies without chocolate."
   ]
  },
  {
   "cell_type": "code",
   "execution_count": 18,
   "id": "ea53ddcf",
   "metadata": {
    "execution": {
     "iopub.execute_input": "2021-12-27T02:51:07.031681Z",
     "iopub.status.busy": "2021-12-27T02:51:07.030674Z",
     "iopub.status.idle": "2021-12-27T02:51:07.705140Z",
     "shell.execute_reply": "2021-12-27T02:51:07.705667Z",
     "shell.execute_reply.started": "2021-12-27T02:33:22.874929Z"
    },
    "papermill": {
     "duration": 0.720564,
     "end_time": "2021-12-27T02:51:07.705833",
     "exception": false,
     "start_time": "2021-12-27T02:51:06.985269",
     "status": "completed"
    },
    "tags": []
   },
   "outputs": [
    {
     "data": {
      "application/javascript": [
       "parent.postMessage({\"jupyterEvent\": \"custom.exercise_interaction\", \"data\": {\"outcomeType\": 1, \"valueTowardsCompletion\": 0.3333333333333333, \"interactionType\": 1, \"questionType\": 2, \"questionId\": \"6.1_PlotColorReg\", \"learnToolsVersion\": \"0.3.4\", \"failureMessage\": \"\", \"exceptionClass\": \"\", \"trace\": \"\"}}, \"*\")"
      ],
      "text/plain": [
       "<IPython.core.display.Javascript object>"
      ]
     },
     "metadata": {},
     "output_type": "display_data"
    },
    {
     "data": {
      "text/markdown": [
       "<span style=\"color:#33cc33\">Correct</span>"
      ],
      "text/plain": [
       "Correct"
      ]
     },
     "metadata": {},
     "output_type": "display_data"
    },
    {
     "data": {
      "image/png": "[encoded data removed]",
      "text/plain": [
       "<Figure size 416.375x360 with 1 Axes>"
      ]
     },
     "metadata": {
      "needs_background": "light"
     },
     "output_type": "display_data"
    }
   ],
   "source": [
    "\n",
    "# Color-coded scatter plot w/ regression lines\n",
    "sns.lmplot(x = 'pricepercent',y = 'winpercent',hue='chocolate',data = candy_data)\n",
    "\n",
    "\n",
    "# Check your answer\n",
    "step_6.a.check()"
   ]
  },
  {
   "cell_type": "code",
   "execution_count": 19,
   "id": "e6615645",
   "metadata": {
    "execution": {
     "iopub.execute_input": "2021-12-27T02:51:07.798499Z",
     "iopub.status.busy": "2021-12-27T02:51:07.797542Z",
     "iopub.status.idle": "2021-12-27T02:51:07.800723Z",
     "shell.execute_reply": "2021-12-27T02:51:07.801305Z"
    },
    "papermill": {
     "duration": 0.052595,
     "end_time": "2021-12-27T02:51:07.801462",
     "exception": false,
     "start_time": "2021-12-27T02:51:07.748867",
     "status": "completed"
    },
    "tags": []
   },
   "outputs": [],
   "source": [
    "# Lines below will give you a hint or solution code\n",
    "#step_6.a.hint()\n",
    "#step_6.a.solution_plot()"
   ]
  },
  {
   "cell_type": "markdown",
   "id": "21f5c9a0",
   "metadata": {
    "papermill": {
     "duration": 0.042516,
     "end_time": "2021-12-27T02:51:07.887153",
     "exception": false,
     "start_time": "2021-12-27T02:51:07.844637",
     "status": "completed"
    },
    "tags": []
   },
   "source": [
    "#### Part B\n",
    "\n",
    "Using the regression lines, what conclusions can you draw about the effects of chocolate and price on candy popularity?"
   ]
  },
  {
   "cell_type": "markdown",
   "id": "901efd4a",
   "metadata": {
    "papermill": {
     "duration": 0.042914,
     "end_time": "2021-12-27T02:51:07.972499",
     "exception": false,
     "start_time": "2021-12-27T02:51:07.929585",
     "status": "completed"
    },
    "tags": []
   },
   "source": [
    "<b> Answer :</b> By looking at the plots we can draw some interesting pattern. Chocolate flavoured expensive candies are more popular among to candy lovers. From the chart we can easily see that As the price goes upward the popularity of such candies increases and most of those candies are chocolate flavoured."
   ]
  },
  {
   "cell_type": "code",
   "execution_count": 20,
   "id": "3ada718a",
   "metadata": {
    "execution": {
     "iopub.execute_input": "2021-12-27T02:51:08.063234Z",
     "iopub.status.busy": "2021-12-27T02:51:08.061857Z",
     "iopub.status.idle": "2021-12-27T02:51:08.065138Z",
     "shell.execute_reply": "2021-12-27T02:51:08.065695Z"
    },
    "papermill": {
     "duration": 0.050075,
     "end_time": "2021-12-27T02:51:08.065845",
     "exception": false,
     "start_time": "2021-12-27T02:51:08.015770",
     "status": "completed"
    },
    "tags": []
   },
   "outputs": [],
   "source": [
    "#step_6.b.hint()"
   ]
  },
  {
   "cell_type": "code",
   "execution_count": 21,
   "id": "63a878f7",
   "metadata": {
    "execution": {
     "iopub.execute_input": "2021-12-27T02:51:08.155945Z",
     "iopub.status.busy": "2021-12-27T02:51:08.154985Z",
     "iopub.status.idle": "2021-12-27T02:51:08.161896Z",
     "shell.execute_reply": "2021-12-27T02:51:08.162529Z"
    },
    "papermill": {
     "duration": 0.053943,
     "end_time": "2021-12-27T02:51:08.162687",
     "exception": false,
     "start_time": "2021-12-27T02:51:08.108744",
     "status": "completed"
    },
    "tags": []
   },
   "outputs": [
    {
     "data": {
      "application/javascript": [
       "parent.postMessage({\"jupyterEvent\": \"custom.exercise_interaction\", \"data\": {\"interactionType\": 3, \"questionType\": 4, \"questionId\": \"6.2_ThinkColorReg\", \"learnToolsVersion\": \"0.3.4\", \"valueTowardsCompletion\": 0.0, \"failureMessage\": \"\", \"exceptionClass\": \"\", \"trace\": \"\", \"outcomeType\": 4}}, \"*\")"
      ],
      "text/plain": [
       "<IPython.core.display.Javascript object>"
      ]
     },
     "metadata": {},
     "output_type": "display_data"
    },
    {
     "data": {
      "text/markdown": [
       "<span style=\"color:#33cc99\">Solution:</span> We'll begin with the regression line for chocolate candies. Since this line has a slightly positive slope, we can say that more expensive chocolate candies tend to be more popular (than relatively cheaper chocolate candies).  Likewise, since the regression line for candies without chocolate has a negative slope, we can say that if candies don't contain chocolate, they tend to be more popular when they are cheaper.  One important note, however, is that the dataset is quite small -- so we shouldn't invest too much trust in these patterns!  To inspire more confidence in the results, we should add more candies to the dataset."
      ],
      "text/plain": [
       "Solution: We'll begin with the regression line for chocolate candies. Since this line has a slightly positive slope, we can say that more expensive chocolate candies tend to be more popular (than relatively cheaper chocolate candies).  Likewise, since the regression line for candies without chocolate has a negative slope, we can say that if candies don't contain chocolate, they tend to be more popular when they are cheaper.  One important note, however, is that the dataset is quite small -- so we shouldn't invest too much trust in these patterns!  To inspire more confidence in the results, we should add more candies to the dataset."
      ]
     },
     "metadata": {},
     "output_type": "display_data"
    }
   ],
   "source": [
    "# Check your answer (Run this code cell to receive credit!)\n",
    "step_6.b.solution()"
   ]
  },
  {
   "cell_type": "markdown",
   "id": "b35aa352",
   "metadata": {
    "papermill": {
     "duration": 0.044124,
     "end_time": "2021-12-27T02:51:08.251258",
     "exception": false,
     "start_time": "2021-12-27T02:51:08.207134",
     "status": "completed"
    },
    "tags": []
   },
   "source": [
    "## Step 7: Everybody loves chocolate.\n",
    "\n",
    "#### Part A\n",
    "\n",
    "Create a categorical scatter plot to highlight the relationship between `'chocolate'` and `'winpercent'`.  Put `'chocolate'` on the (horizontal) x-axis, and `'winpercent'` on the (vertical) y-axis."
   ]
  },
  {
   "cell_type": "code",
   "execution_count": 22,
   "id": "25ca987e",
   "metadata": {
    "execution": {
     "iopub.execute_input": "2021-12-27T02:51:08.347628Z",
     "iopub.status.busy": "2021-12-27T02:51:08.346641Z",
     "iopub.status.idle": "2021-12-27T02:51:08.542149Z",
     "shell.execute_reply": "2021-12-27T02:51:08.542638Z",
     "shell.execute_reply.started": "2021-12-27T02:46:22.307014Z"
    },
    "papermill": {
     "duration": 0.246229,
     "end_time": "2021-12-27T02:51:08.542802",
     "exception": false,
     "start_time": "2021-12-27T02:51:08.296573",
     "status": "completed"
    },
    "tags": []
   },
   "outputs": [
    {
     "data": {
      "application/javascript": [
       "parent.postMessage({\"jupyterEvent\": \"custom.exercise_interaction\", \"data\": {\"outcomeType\": 1, \"valueTowardsCompletion\": 0.3333333333333333, \"interactionType\": 1, \"questionType\": 2, \"questionId\": \"7.1_PlotSwarm\", \"learnToolsVersion\": \"0.3.4\", \"failureMessage\": \"\", \"exceptionClass\": \"\", \"trace\": \"\"}}, \"*\")"
      ],
      "text/plain": [
       "<IPython.core.display.Javascript object>"
      ]
     },
     "metadata": {},
     "output_type": "display_data"
    },
    {
     "data": {
      "text/markdown": [
       "<span style=\"color:#33cc33\">Correct</span>"
      ],
      "text/plain": [
       "Correct"
      ]
     },
     "metadata": {},
     "output_type": "display_data"
    },
    {
     "data": {
      "image/png": "[encoded data removed]",
      "text/plain": [
       "<Figure size 1440x720 with 1 Axes>"
      ]
     },
     "metadata": {
      "needs_background": "light"
     },
     "output_type": "display_data"
    }
   ],
   "source": [
    "# Defining the size of the plot\n",
    "plt.figure(figsize = (20,10))\n",
    "\n",
    "# Giving a title to the plot\n",
    "plt.title('Relationship between chocolate and winpercent')\n",
    "\n",
    "# Scatter plot showing the relationship between 'chocolate' and 'winpercent'\n",
    "sns.swarmplot(x = candy_data['chocolate'],y = candy_data['winpercent'])\n",
    "\n",
    "# Check your answer\n",
    "step_7.a.check()"
   ]
  },
  {
   "cell_type": "code",
   "execution_count": 23,
   "id": "0e8f7946",
   "metadata": {
    "execution": {
     "iopub.execute_input": "2021-12-27T02:51:08.639940Z",
     "iopub.status.busy": "2021-12-27T02:51:08.638991Z",
     "iopub.status.idle": "2021-12-27T02:51:08.642285Z",
     "shell.execute_reply": "2021-12-27T02:51:08.642835Z"
    },
    "papermill": {
     "duration": 0.05328,
     "end_time": "2021-12-27T02:51:08.642991",
     "exception": false,
     "start_time": "2021-12-27T02:51:08.589711",
     "status": "completed"
    },
    "tags": []
   },
   "outputs": [],
   "source": [
    "# Lines below will give you a hint or solution code\n",
    "#step_7.a.hint()\n",
    "#step_7.a.solution_plot()"
   ]
  },
  {
   "cell_type": "markdown",
   "id": "80f00e46",
   "metadata": {
    "papermill": {
     "duration": 0.045767,
     "end_time": "2021-12-27T02:51:08.735005",
     "exception": false,
     "start_time": "2021-12-27T02:51:08.689238",
     "status": "completed"
    },
    "tags": []
   },
   "source": [
    "#### Part B\n",
    "\n",
    "You decide to dedicate a section of your report to the fact that chocolate candies tend to be more popular than candies without chocolate.  Which plot is more appropriate to tell this story: the plot from **Step 6**, or the plot from **Step 7**?"
   ]
  },
  {
   "cell_type": "markdown",
   "id": "1b2ba00e",
   "metadata": {
    "papermill": {
     "duration": 0.045927,
     "end_time": "2021-12-27T02:51:08.827450",
     "exception": false,
     "start_time": "2021-12-27T02:51:08.781523",
     "status": "completed"
    },
    "tags": []
   },
   "source": [
    "<b> Answer :</b> The plot from step 7 is very concise and to the point and exactly giving us the answer that we are looking for so I would go for the plot in step 7 which says that the candies with chocolate are more popular.\n",
    "\n",
    "Talking about the plot in step 6, it is also providing information but it's not that straight forward."
   ]
  },
  {
   "cell_type": "code",
   "execution_count": 24,
   "id": "cd0bdf1e",
   "metadata": {
    "execution": {
     "iopub.execute_input": "2021-12-27T02:51:08.924742Z",
     "iopub.status.busy": "2021-12-27T02:51:08.923724Z",
     "iopub.status.idle": "2021-12-27T02:51:08.926891Z",
     "shell.execute_reply": "2021-12-27T02:51:08.927484Z"
    },
    "papermill": {
     "duration": 0.053689,
     "end_time": "2021-12-27T02:51:08.927642",
     "exception": false,
     "start_time": "2021-12-27T02:51:08.873953",
     "status": "completed"
    },
    "tags": []
   },
   "outputs": [],
   "source": [
    "#step_7.b.hint()"
   ]
  },
  {
   "cell_type": "code",
   "execution_count": 25,
   "id": "4aa56fdd",
   "metadata": {
    "execution": {
     "iopub.execute_input": "2021-12-27T02:51:09.027919Z",
     "iopub.status.busy": "2021-12-27T02:51:09.026861Z",
     "iopub.status.idle": "2021-12-27T02:51:09.034134Z",
     "shell.execute_reply": "2021-12-27T02:51:09.034682Z",
     "shell.execute_reply.started": "2021-12-27T02:47:35.155601Z"
    },
    "papermill": {
     "duration": 0.059013,
     "end_time": "2021-12-27T02:51:09.034851",
     "exception": false,
     "start_time": "2021-12-27T02:51:08.975838",
     "status": "completed"
    },
    "tags": []
   },
   "outputs": [
    {
     "data": {
      "application/javascript": [
       "parent.postMessage({\"jupyterEvent\": \"custom.exercise_interaction\", \"data\": {\"interactionType\": 3, \"questionType\": 4, \"questionId\": \"7.2_ThinkSwarm\", \"learnToolsVersion\": \"0.3.4\", \"valueTowardsCompletion\": 0.0, \"failureMessage\": \"\", \"exceptionClass\": \"\", \"trace\": \"\", \"outcomeType\": 4}}, \"*\")"
      ],
      "text/plain": [
       "<IPython.core.display.Javascript object>"
      ]
     },
     "metadata": {},
     "output_type": "display_data"
    },
    {
     "data": {
      "text/markdown": [
       "<span style=\"color:#33cc99\">Solution:</span> In this case, the categorical scatter plot from **Step 7** is the more appropriate plot. While both plots tell the desired story, the plot from **Step 6** conveys far more information that could distract from the main point."
      ],
      "text/plain": [
       "Solution: In this case, the categorical scatter plot from **Step 7** is the more appropriate plot. While both plots tell the desired story, the plot from **Step 6** conveys far more information that could distract from the main point."
      ]
     },
     "metadata": {},
     "output_type": "display_data"
    }
   ],
   "source": [
    "# Check your answer (Run this code cell to receive credit!)\n",
    "step_7.b.solution()"
   ]
  },
  {
   "cell_type": "markdown",
   "id": "cf320893",
   "metadata": {
    "papermill": {
     "duration": 0.048871,
     "end_time": "2021-12-27T02:51:09.133312",
     "exception": false,
     "start_time": "2021-12-27T02:51:09.084441",
     "status": "completed"
    },
    "tags": []
   },
   "source": [
    "## Keep going\n",
    "\n",
    "Explore **[histograms and density plots](https://www.kaggle.com/alexisbcook/distributions)**."
   ]
  },
  {
   "cell_type": "markdown",
   "id": "32dccdec",
   "metadata": {
    "papermill": {
     "duration": 0.047801,
     "end_time": "2021-12-27T02:51:09.228967",
     "exception": false,
     "start_time": "2021-12-27T02:51:09.181166",
     "status": "completed"
    },
    "tags": []
   },
   "source": [
    "---\n",
    "\n",
    "\n",
    "\n",
    "\n",
    "*Have questions or comments? Visit the [course discussion forum](https://www.kaggle.com/learn/data-visualization/discussion) to chat with other learners.*"
   ]
  }
 ],
 "metadata": {
  "kernelspec": {
   "display_name": "Python 3",
   "language": "python",
   "name": "python3"
  },
  "language_info": {
   "codemirror_mode": {
    "name": "ipython",
    "version": 3
   },
   "file_extension": ".py",
   "mimetype": "text/x-python",
   "name": "python",
   "nbconvert_exporter": "python",
   "pygments_lexer": "ipython3",
   "version": "3.7.12"
  },
  "papermill": {
   "default_parameters": {},
   "duration": 17.075234,
   "end_time": "2021-12-27T02:51:09.988189",
   "environment_variables": {},
   "exception": null,
   "input_path": "__notebook__.ipynb",
   "output_path": "__notebook__.ipynb",
   "parameters": {},
   "start_time": "2021-12-27T02:50:52.912955",
   "version": "2.3.3"
  }
 },
 "nbformat": 4,
 "nbformat_minor": 5
}
